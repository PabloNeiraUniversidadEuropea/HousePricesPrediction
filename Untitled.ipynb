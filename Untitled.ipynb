{
 "cells": [
  {
   "cell_type": "code",
   "execution_count": 17,
   "metadata": {},
   "outputs": [],
   "source": [
    "import pandas as pd\n",
    "import numpy as np\n",
    "import matplotlib as mpl\n",
    "import matplotlib.pyplot as plt\n",
    "import pyspark.mllib.stat as st\n",
    "import pyspark.mllib.linalg as ln"
   ]
  },
  {
   "cell_type": "code",
   "execution_count": 18,
   "metadata": {},
   "outputs": [
    {
     "name": "stdout",
     "output_type": "stream",
     "text": [
      "Welcome to\n",
      "      ____              __\n",
      "     / __/__  ___ _____/ /__\n",
      "    _\\ \\/ _ \\/ _ `/ __/  '_/\n",
      "   /__ / .__/\\_,_/_/ /_/\\_\\   version 2.4.5\n",
      "      /_/\n",
      "\n",
      "Using Python version 3.7.4 (default, Aug 13 2019 15:17:50)\n",
      "SparkSession available as 'spark'.\n"
     ]
    }
   ],
   "source": [
    "import os\n",
    "exec(open(os.path.join(os.environ[\"SPARK_HOME\"], 'python/pyspark/shell.py')).read())"
   ]
  },
  {
   "cell_type": "code",
   "execution_count": 19,
   "metadata": {},
   "outputs": [
    {
     "name": "stdout",
     "output_type": "stream",
     "text": [
      "+---+----+----+\n",
      "| id|dogs|cats|\n",
      "+---+----+----+\n",
      "|  1|   2|   0|\n",
      "|  2|   0|   1|\n",
      "+---+----+----+\n",
      "\n"
     ]
    }
   ],
   "source": [
    "import pyspark\n",
    "\n",
    "from pyspark.sql.session import SparkSession\n",
    "spark = SparkSession.builder.appName(\"spark test\").getOrCreate()\n",
    "columns = ['id', 'dogs', 'cats']\n",
    "vals = [\n",
    "     (1, 2, 0),\n",
    "     (2, 0, 1)\n",
    "]\n",
    "# create DataFrame\n",
    "df = spark.createDataFrame(vals, columns)\n",
    "df.show()\n"
   ]
  },
  {
   "cell_type": "code",
   "execution_count": 20,
   "metadata": {},
   "outputs": [
    {
     "data": {
      "text/plain": [
       "'/Users/pabloneira/OpenDataII'"
      ]
     },
     "execution_count": 20,
     "metadata": {},
     "output_type": "execute_result"
    }
   ],
   "source": [
    "pwd"
   ]
  },
  {
   "cell_type": "code",
   "execution_count": null,
   "metadata": {},
   "outputs": [],
   "source": []
  },
  {
   "cell_type": "code",
   "execution_count": 21,
   "metadata": {},
   "outputs": [
    {
     "data": {
      "text/plain": [
       "DataFrame[Id: int, MSSubClass: int, MSZoning: string, LotFrontage: string, LotArea: int, Street: string, Alley: string, LotShape: string, LandContour: string, Utilities: string, LotConfig: string, LandSlope: string, Neighborhood: string, Condition1: string, Condition2: string, BldgType: string, HouseStyle: string, OverallQual: int, OverallCond: int, YearBuilt: int, YearRemodAdd: int, RoofStyle: string, RoofMatl: string, Exterior1st: string, Exterior2nd: string, MasVnrType: string, MasVnrArea: string, ExterQual: string, ExterCond: string, Foundation: string, BsmtQual: string, BsmtCond: string, BsmtExposure: string, BsmtFinType1: string, BsmtFinSF1: int, BsmtFinType2: string, BsmtFinSF2: int, BsmtUnfSF: int, TotalBsmtSF: int, Heating: string, HeatingQC: string, CentralAir: string, Electrical: string, 1stFlrSF: int, 2ndFlrSF: int, LowQualFinSF: int, GrLivArea: int, BsmtFullBath: int, BsmtHalfBath: int, FullBath: int, HalfBath: int, BedroomAbvGr: int, KitchenAbvGr: int, KitchenQual: string, TotRmsAbvGrd: int, Functional: string, Fireplaces: int, FireplaceQu: string, GarageType: string, GarageYrBlt: string, GarageFinish: string, GarageCars: int, GarageArea: int, GarageQual: string, GarageCond: string, PavedDrive: string, WoodDeckSF: int, OpenPorchSF: int, EnclosedPorch: int, 3SsnPorch: int, ScreenPorch: int, PoolArea: int, PoolQC: string, Fence: string, MiscFeature: string, MiscVal: int, MoSold: int, YrSold: int, SaleType: string, SaleCondition: string, SalePrice: int]"
      ]
     },
     "execution_count": 21,
     "metadata": {},
     "output_type": "execute_result"
    }
   ],
   "source": [
    "midata = spark.read.csv('./datasets/train.csv', header = 'true', inferSchema = 'true', sep = ','                                    \n",
    "                    )               \n",
    "midata"
   ]
  },
  {
   "cell_type": "code",
   "execution_count": 22,
   "metadata": {},
   "outputs": [
    {
     "data": {
      "text/plain": [
       "[Row(Id=1, MSSubClass=60, MSZoning='RL', LotFrontage='65', LotArea=8450, Street='Pave', Alley='NA', LotShape='Reg', LandContour='Lvl', Utilities='AllPub', LotConfig='Inside', LandSlope='Gtl', Neighborhood='CollgCr', Condition1='Norm', Condition2='Norm', BldgType='1Fam', HouseStyle='2Story', OverallQual=7, OverallCond=5, YearBuilt=2003, YearRemodAdd=2003, RoofStyle='Gable', RoofMatl='CompShg', Exterior1st='VinylSd', Exterior2nd='VinylSd', MasVnrType='BrkFace', MasVnrArea='196', ExterQual='Gd', ExterCond='TA', Foundation='PConc', BsmtQual='Gd', BsmtCond='TA', BsmtExposure='No', BsmtFinType1='GLQ', BsmtFinSF1=706, BsmtFinType2='Unf', BsmtFinSF2=0, BsmtUnfSF=150, TotalBsmtSF=856, Heating='GasA', HeatingQC='Ex', CentralAir='Y', Electrical='SBrkr', 1stFlrSF=856, 2ndFlrSF=854, LowQualFinSF=0, GrLivArea=1710, BsmtFullBath=1, BsmtHalfBath=0, FullBath=2, HalfBath=1, BedroomAbvGr=3, KitchenAbvGr=1, KitchenQual='Gd', TotRmsAbvGrd=8, Functional='Typ', Fireplaces=0, FireplaceQu='NA', GarageType='Attchd', GarageYrBlt='2003', GarageFinish='RFn', GarageCars=2, GarageArea=548, GarageQual='TA', GarageCond='TA', PavedDrive='Y', WoodDeckSF=0, OpenPorchSF=61, EnclosedPorch=0, 3SsnPorch=0, ScreenPorch=0, PoolArea=0, PoolQC='NA', Fence='NA', MiscFeature='NA', MiscVal=0, MoSold=2, YrSold=2008, SaleType='WD', SaleCondition='Normal', SalePrice=208500),\n",
       " Row(Id=2, MSSubClass=20, MSZoning='RL', LotFrontage='80', LotArea=9600, Street='Pave', Alley='NA', LotShape='Reg', LandContour='Lvl', Utilities='AllPub', LotConfig='FR2', LandSlope='Gtl', Neighborhood='Veenker', Condition1='Feedr', Condition2='Norm', BldgType='1Fam', HouseStyle='1Story', OverallQual=6, OverallCond=8, YearBuilt=1976, YearRemodAdd=1976, RoofStyle='Gable', RoofMatl='CompShg', Exterior1st='MetalSd', Exterior2nd='MetalSd', MasVnrType='None', MasVnrArea='0', ExterQual='TA', ExterCond='TA', Foundation='CBlock', BsmtQual='Gd', BsmtCond='TA', BsmtExposure='Gd', BsmtFinType1='ALQ', BsmtFinSF1=978, BsmtFinType2='Unf', BsmtFinSF2=0, BsmtUnfSF=284, TotalBsmtSF=1262, Heating='GasA', HeatingQC='Ex', CentralAir='Y', Electrical='SBrkr', 1stFlrSF=1262, 2ndFlrSF=0, LowQualFinSF=0, GrLivArea=1262, BsmtFullBath=0, BsmtHalfBath=1, FullBath=2, HalfBath=0, BedroomAbvGr=3, KitchenAbvGr=1, KitchenQual='TA', TotRmsAbvGrd=6, Functional='Typ', Fireplaces=1, FireplaceQu='TA', GarageType='Attchd', GarageYrBlt='1976', GarageFinish='RFn', GarageCars=2, GarageArea=460, GarageQual='TA', GarageCond='TA', PavedDrive='Y', WoodDeckSF=298, OpenPorchSF=0, EnclosedPorch=0, 3SsnPorch=0, ScreenPorch=0, PoolArea=0, PoolQC='NA', Fence='NA', MiscFeature='NA', MiscVal=0, MoSold=5, YrSold=2007, SaleType='WD', SaleCondition='Normal', SalePrice=181500),\n",
       " Row(Id=3, MSSubClass=60, MSZoning='RL', LotFrontage='68', LotArea=11250, Street='Pave', Alley='NA', LotShape='IR1', LandContour='Lvl', Utilities='AllPub', LotConfig='Inside', LandSlope='Gtl', Neighborhood='CollgCr', Condition1='Norm', Condition2='Norm', BldgType='1Fam', HouseStyle='2Story', OverallQual=7, OverallCond=5, YearBuilt=2001, YearRemodAdd=2002, RoofStyle='Gable', RoofMatl='CompShg', Exterior1st='VinylSd', Exterior2nd='VinylSd', MasVnrType='BrkFace', MasVnrArea='162', ExterQual='Gd', ExterCond='TA', Foundation='PConc', BsmtQual='Gd', BsmtCond='TA', BsmtExposure='Mn', BsmtFinType1='GLQ', BsmtFinSF1=486, BsmtFinType2='Unf', BsmtFinSF2=0, BsmtUnfSF=434, TotalBsmtSF=920, Heating='GasA', HeatingQC='Ex', CentralAir='Y', Electrical='SBrkr', 1stFlrSF=920, 2ndFlrSF=866, LowQualFinSF=0, GrLivArea=1786, BsmtFullBath=1, BsmtHalfBath=0, FullBath=2, HalfBath=1, BedroomAbvGr=3, KitchenAbvGr=1, KitchenQual='Gd', TotRmsAbvGrd=6, Functional='Typ', Fireplaces=1, FireplaceQu='TA', GarageType='Attchd', GarageYrBlt='2001', GarageFinish='RFn', GarageCars=2, GarageArea=608, GarageQual='TA', GarageCond='TA', PavedDrive='Y', WoodDeckSF=0, OpenPorchSF=42, EnclosedPorch=0, 3SsnPorch=0, ScreenPorch=0, PoolArea=0, PoolQC='NA', Fence='NA', MiscFeature='NA', MiscVal=0, MoSold=9, YrSold=2008, SaleType='WD', SaleCondition='Normal', SalePrice=223500)]"
      ]
     },
     "execution_count": 22,
     "metadata": {},
     "output_type": "execute_result"
    }
   ],
   "source": [
    "midata.head(3)"
   ]
  },
  {
   "cell_type": "code",
   "execution_count": 23,
   "metadata": {},
   "outputs": [
    {
     "data": {
      "text/plain": [
       "StructType(List(StructField(Id,IntegerType,true),StructField(MSSubClass,IntegerType,true),StructField(MSZoning,StringType,true),StructField(LotFrontage,StringType,true),StructField(LotArea,IntegerType,true),StructField(Street,StringType,true),StructField(Alley,StringType,true),StructField(LotShape,StringType,true),StructField(LandContour,StringType,true),StructField(Utilities,StringType,true),StructField(LotConfig,StringType,true),StructField(LandSlope,StringType,true),StructField(Neighborhood,StringType,true),StructField(Condition1,StringType,true),StructField(Condition2,StringType,true),StructField(BldgType,StringType,true),StructField(HouseStyle,StringType,true),StructField(OverallQual,IntegerType,true),StructField(OverallCond,IntegerType,true),StructField(YearBuilt,IntegerType,true),StructField(YearRemodAdd,IntegerType,true),StructField(RoofStyle,StringType,true),StructField(RoofMatl,StringType,true),StructField(Exterior1st,StringType,true),StructField(Exterior2nd,StringType,true),StructField(MasVnrType,StringType,true),StructField(MasVnrArea,StringType,true),StructField(ExterQual,StringType,true),StructField(ExterCond,StringType,true),StructField(Foundation,StringType,true),StructField(BsmtQual,StringType,true),StructField(BsmtCond,StringType,true),StructField(BsmtExposure,StringType,true),StructField(BsmtFinType1,StringType,true),StructField(BsmtFinSF1,IntegerType,true),StructField(BsmtFinType2,StringType,true),StructField(BsmtFinSF2,IntegerType,true),StructField(BsmtUnfSF,IntegerType,true),StructField(TotalBsmtSF,IntegerType,true),StructField(Heating,StringType,true),StructField(HeatingQC,StringType,true),StructField(CentralAir,StringType,true),StructField(Electrical,StringType,true),StructField(1stFlrSF,IntegerType,true),StructField(2ndFlrSF,IntegerType,true),StructField(LowQualFinSF,IntegerType,true),StructField(GrLivArea,IntegerType,true),StructField(BsmtFullBath,IntegerType,true),StructField(BsmtHalfBath,IntegerType,true),StructField(FullBath,IntegerType,true),StructField(HalfBath,IntegerType,true),StructField(BedroomAbvGr,IntegerType,true),StructField(KitchenAbvGr,IntegerType,true),StructField(KitchenQual,StringType,true),StructField(TotRmsAbvGrd,IntegerType,true),StructField(Functional,StringType,true),StructField(Fireplaces,IntegerType,true),StructField(FireplaceQu,StringType,true),StructField(GarageType,StringType,true),StructField(GarageYrBlt,StringType,true),StructField(GarageFinish,StringType,true),StructField(GarageCars,IntegerType,true),StructField(GarageArea,IntegerType,true),StructField(GarageQual,StringType,true),StructField(GarageCond,StringType,true),StructField(PavedDrive,StringType,true),StructField(WoodDeckSF,IntegerType,true),StructField(OpenPorchSF,IntegerType,true),StructField(EnclosedPorch,IntegerType,true),StructField(3SsnPorch,IntegerType,true),StructField(ScreenPorch,IntegerType,true),StructField(PoolArea,IntegerType,true),StructField(PoolQC,StringType,true),StructField(Fence,StringType,true),StructField(MiscFeature,StringType,true),StructField(MiscVal,IntegerType,true),StructField(MoSold,IntegerType,true),StructField(YrSold,IntegerType,true),StructField(SaleType,StringType,true),StructField(SaleCondition,StringType,true),StructField(SalePrice,IntegerType,true)))"
      ]
     },
     "execution_count": 23,
     "metadata": {},
     "output_type": "execute_result"
    }
   ],
   "source": [
    "midata.schema"
   ]
  },
  {
   "cell_type": "code",
   "execution_count": 24,
   "metadata": {},
   "outputs": [
    {
     "data": {
      "text/plain": [
       "<bound method DataFrame.toPandas of DataFrame[Id: double, MSSubClass: double, MSZoning: double, LotFrontage: double, LotArea: double, Street: double, Alley: double, LotShape: double, LandContour: double, Utilities: double, LotConfig: double, LandSlope: double, Neighborhood: double, Condition1: double, Condition2: double, BldgType: double, HouseStyle: double, OverallQual: double, OverallCond: double, YearBuilt: double, YearRemodAdd: double, RoofStyle: double, RoofMatl: double, Exterior1st: double, Exterior2nd: double, MasVnrType: double, MasVnrArea: double, ExterQual: double, ExterCond: double, Foundation: double, BsmtQual: double, BsmtCond: double, BsmtExposure: double, BsmtFinType1: double, BsmtFinSF1: double, BsmtFinType2: double, BsmtFinSF2: double, BsmtUnfSF: double, TotalBsmtSF: double, Heating: double, HeatingQC: double, CentralAir: double, Electrical: double, 1stFlrSF: double, 2ndFlrSF: double, LowQualFinSF: double, GrLivArea: double, BsmtFullBath: double, BsmtHalfBath: double, FullBath: double, HalfBath: double, BedroomAbvGr: double, KitchenAbvGr: double, KitchenQual: double, TotRmsAbvGrd: double, Functional: double, Fireplaces: double, FireplaceQu: double, GarageType: double, GarageYrBlt: double, GarageFinish: double, GarageCars: double, GarageArea: double, GarageQual: double, GarageCond: double, PavedDrive: double, WoodDeckSF: double, OpenPorchSF: double, EnclosedPorch: double, 3SsnPorch: double, ScreenPorch: double, PoolArea: double, PoolQC: double, Fence: double, MiscFeature: double, MiscVal: double, MoSold: double, YrSold: double, SaleType: double, SaleCondition: double, SalePrice: double]>"
      ]
     },
     "execution_count": 24,
     "metadata": {},
     "output_type": "execute_result"
    }
   ],
   "source": [
    "from pyspark.sql import functions as F\n",
    "df_null=midata.select(*(F.sum(F.col(c).isNull().cast('Double')).alias(c) for c in midata.columns)).toPandas\n",
    "df_null"
   ]
  },
  {
   "cell_type": "code",
   "execution_count": 25,
   "metadata": {},
   "outputs": [
    {
     "name": "stdout",
     "output_type": "stream",
     "text": [
      "root\n",
      " |-- Id: integer (nullable = true)\n",
      " |-- MSSubClass: integer (nullable = true)\n",
      " |-- MSZoning: string (nullable = true)\n",
      " |-- LotFrontage: string (nullable = true)\n",
      " |-- LotArea: integer (nullable = true)\n",
      " |-- Street: string (nullable = true)\n",
      " |-- Alley: string (nullable = true)\n",
      " |-- LotShape: string (nullable = true)\n",
      " |-- LandContour: string (nullable = true)\n",
      " |-- Utilities: string (nullable = true)\n",
      " |-- LotConfig: string (nullable = true)\n",
      " |-- LandSlope: string (nullable = true)\n",
      " |-- Neighborhood: string (nullable = true)\n",
      " |-- Condition1: string (nullable = true)\n",
      " |-- Condition2: string (nullable = true)\n",
      " |-- BldgType: string (nullable = true)\n",
      " |-- HouseStyle: string (nullable = true)\n",
      " |-- OverallQual: integer (nullable = true)\n",
      " |-- OverallCond: integer (nullable = true)\n",
      " |-- YearBuilt: integer (nullable = true)\n",
      " |-- YearRemodAdd: integer (nullable = true)\n",
      " |-- RoofStyle: string (nullable = true)\n",
      " |-- RoofMatl: string (nullable = true)\n",
      " |-- Exterior1st: string (nullable = true)\n",
      " |-- Exterior2nd: string (nullable = true)\n",
      " |-- MasVnrType: string (nullable = true)\n",
      " |-- MasVnrArea: string (nullable = true)\n",
      " |-- ExterQual: string (nullable = true)\n",
      " |-- ExterCond: string (nullable = true)\n",
      " |-- Foundation: string (nullable = true)\n",
      " |-- BsmtQual: string (nullable = true)\n",
      " |-- BsmtCond: string (nullable = true)\n",
      " |-- BsmtExposure: string (nullable = true)\n",
      " |-- BsmtFinType1: string (nullable = true)\n",
      " |-- BsmtFinSF1: integer (nullable = true)\n",
      " |-- BsmtFinType2: string (nullable = true)\n",
      " |-- BsmtFinSF2: integer (nullable = true)\n",
      " |-- BsmtUnfSF: integer (nullable = true)\n",
      " |-- TotalBsmtSF: integer (nullable = true)\n",
      " |-- Heating: string (nullable = true)\n",
      " |-- HeatingQC: string (nullable = true)\n",
      " |-- CentralAir: string (nullable = true)\n",
      " |-- Electrical: string (nullable = true)\n",
      " |-- 1stFlrSF: integer (nullable = true)\n",
      " |-- 2ndFlrSF: integer (nullable = true)\n",
      " |-- LowQualFinSF: integer (nullable = true)\n",
      " |-- GrLivArea: integer (nullable = true)\n",
      " |-- BsmtFullBath: integer (nullable = true)\n",
      " |-- BsmtHalfBath: integer (nullable = true)\n",
      " |-- FullBath: integer (nullable = true)\n",
      " |-- HalfBath: integer (nullable = true)\n",
      " |-- BedroomAbvGr: integer (nullable = true)\n",
      " |-- KitchenAbvGr: integer (nullable = true)\n",
      " |-- KitchenQual: string (nullable = true)\n",
      " |-- TotRmsAbvGrd: integer (nullable = true)\n",
      " |-- Functional: string (nullable = true)\n",
      " |-- Fireplaces: integer (nullable = true)\n",
      " |-- FireplaceQu: string (nullable = true)\n",
      " |-- GarageType: string (nullable = true)\n",
      " |-- GarageYrBlt: string (nullable = true)\n",
      " |-- GarageFinish: string (nullable = true)\n",
      " |-- GarageCars: integer (nullable = true)\n",
      " |-- GarageArea: integer (nullable = true)\n",
      " |-- GarageQual: string (nullable = true)\n",
      " |-- GarageCond: string (nullable = true)\n",
      " |-- PavedDrive: string (nullable = true)\n",
      " |-- WoodDeckSF: integer (nullable = true)\n",
      " |-- OpenPorchSF: integer (nullable = true)\n",
      " |-- EnclosedPorch: integer (nullable = true)\n",
      " |-- 3SsnPorch: integer (nullable = true)\n",
      " |-- ScreenPorch: integer (nullable = true)\n",
      " |-- PoolArea: integer (nullable = true)\n",
      " |-- PoolQC: string (nullable = true)\n",
      " |-- Fence: string (nullable = true)\n",
      " |-- MiscFeature: string (nullable = true)\n",
      " |-- MiscVal: integer (nullable = true)\n",
      " |-- MoSold: integer (nullable = true)\n",
      " |-- YrSold: integer (nullable = true)\n",
      " |-- SaleType: string (nullable = true)\n",
      " |-- SaleCondition: string (nullable = true)\n",
      " |-- SalePrice: integer (nullable = true)\n",
      "\n"
     ]
    }
   ],
   "source": [
    "midata.printSchema()"
   ]
  },
  {
   "cell_type": "code",
   "execution_count": 26,
   "metadata": {},
   "outputs": [
    {
     "data": {
      "text/plain": [
       "['Id',\n",
       " 'MSSubClass',\n",
       " 'MSZoning',\n",
       " 'LotFrontage',\n",
       " 'LotArea',\n",
       " 'Street',\n",
       " 'Alley',\n",
       " 'LotShape',\n",
       " 'LandContour',\n",
       " 'Utilities',\n",
       " 'LotConfig',\n",
       " 'LandSlope',\n",
       " 'Neighborhood',\n",
       " 'Condition1',\n",
       " 'Condition2',\n",
       " 'BldgType',\n",
       " 'HouseStyle',\n",
       " 'OverallQual',\n",
       " 'OverallCond',\n",
       " 'YearBuilt',\n",
       " 'YearRemodAdd',\n",
       " 'RoofStyle',\n",
       " 'RoofMatl',\n",
       " 'Exterior1st',\n",
       " 'Exterior2nd',\n",
       " 'MasVnrType',\n",
       " 'MasVnrArea',\n",
       " 'ExterQual',\n",
       " 'ExterCond',\n",
       " 'Foundation',\n",
       " 'BsmtQual',\n",
       " 'BsmtCond',\n",
       " 'BsmtExposure',\n",
       " 'BsmtFinType1',\n",
       " 'BsmtFinSF1',\n",
       " 'BsmtFinType2',\n",
       " 'BsmtFinSF2',\n",
       " 'BsmtUnfSF',\n",
       " 'TotalBsmtSF',\n",
       " 'Heating',\n",
       " 'HeatingQC',\n",
       " 'CentralAir',\n",
       " 'Electrical',\n",
       " '1stFlrSF',\n",
       " '2ndFlrSF',\n",
       " 'LowQualFinSF',\n",
       " 'GrLivArea',\n",
       " 'BsmtFullBath',\n",
       " 'BsmtHalfBath',\n",
       " 'FullBath',\n",
       " 'HalfBath',\n",
       " 'BedroomAbvGr',\n",
       " 'KitchenAbvGr',\n",
       " 'KitchenQual',\n",
       " 'TotRmsAbvGrd',\n",
       " 'Functional',\n",
       " 'Fireplaces',\n",
       " 'FireplaceQu',\n",
       " 'GarageType',\n",
       " 'GarageYrBlt',\n",
       " 'GarageFinish',\n",
       " 'GarageCars',\n",
       " 'GarageArea',\n",
       " 'GarageQual',\n",
       " 'GarageCond',\n",
       " 'PavedDrive',\n",
       " 'WoodDeckSF',\n",
       " 'OpenPorchSF',\n",
       " 'EnclosedPorch',\n",
       " '3SsnPorch',\n",
       " 'ScreenPorch',\n",
       " 'PoolArea',\n",
       " 'PoolQC',\n",
       " 'Fence',\n",
       " 'MiscFeature',\n",
       " 'MiscVal',\n",
       " 'MoSold',\n",
       " 'YrSold',\n",
       " 'SaleType',\n",
       " 'SaleCondition',\n",
       " 'SalePrice']"
      ]
     },
     "execution_count": 26,
     "metadata": {},
     "output_type": "execute_result"
    }
   ],
   "source": [
    "midata.columns"
   ]
  },
  {
   "cell_type": "code",
   "execution_count": 27,
   "metadata": {},
   "outputs": [
    {
     "name": "stdout",
     "output_type": "stream",
     "text": [
      "+---------+\n",
      "|YearBuilt|\n",
      "+---------+\n",
      "|     1959|\n",
      "|     1990|\n",
      "|     1975|\n",
      "|     1977|\n",
      "|     1924|\n",
      "|     2003|\n",
      "|     2007|\n",
      "|     1892|\n",
      "|     1974|\n",
      "|     1927|\n",
      "|     1875|\n",
      "|     1955|\n",
      "|     1890|\n",
      "|     2006|\n",
      "|     1978|\n",
      "|     1908|\n",
      "|     1925|\n",
      "|     1961|\n",
      "|     1942|\n",
      "|     1939|\n",
      "+---------+\n",
      "only showing top 20 rows\n",
      "\n"
     ]
    }
   ],
   "source": [
    "midata.select('YearBuilt').distinct().show()"
   ]
  },
  {
   "cell_type": "code",
   "execution_count": 28,
   "metadata": {},
   "outputs": [],
   "source": [
    "selected_features = [\n",
    "    'Id', \n",
    "    'SalePrice', \n",
    "    'YrSold', \n",
    "    'YearBuilt', \n",
    "    'YearRemodAdd', \n",
    "    'TotalBsmtSF', \n",
    "    'OverallQual', \n",
    "    'SaleCondition', \n",
    "    'TotRmsAbvGrd', \n",
    "    'BedroomAbvGr'\n",
    "]\n",
    "\n",
    "midata_trimmed = midata.select(selected_features)"
   ]
  },
  {
   "cell_type": "code",
   "execution_count": 29,
   "metadata": {},
   "outputs": [
    {
     "data": {
      "text/plain": [
       "pyspark.sql.dataframe.DataFrame"
      ]
     },
     "execution_count": 29,
     "metadata": {},
     "output_type": "execute_result"
    }
   ],
   "source": [
    "type(midata)"
   ]
  },
  {
   "cell_type": "code",
   "execution_count": 30,
   "metadata": {},
   "outputs": [
    {
     "name": "stdout",
     "output_type": "stream",
     "text": [
      "SalePrice: \t180921.20 \t 79442.50\n",
      "TotalBsmtSF: \t1057.43 \t 438.71\n",
      "PoolArea: \t2.76 \t 40.18\n",
      "MSSubClass: \t56.90 \t 42.30\n",
      "LotArea: \t10516.83 \t 9981.26\n",
      "OverallQual: \t6.10 \t 1.38\n",
      "OverallCond: \t5.58 \t 1.11\n",
      "YearBuilt: \t1971.27 \t 30.20\n",
      "YearRemodAdd: \t1984.87 \t 20.65\n",
      "BsmtFinSF1: \t443.64 \t 456.10\n",
      "BsmtFinSF2: \t46.55 \t 161.32\n",
      "BsmtUnfSF: \t567.24 \t 441.87\n",
      "YrSold: \t2007.82 \t 1.33\n",
      "1stFlrSF: \t1162.63 \t 386.59\n",
      "2ndFlrSF: \t346.99 \t 436.53\n",
      "LowQualFinSF: \t5.84 \t 48.62\n",
      "GrLivArea: \t1515.46 \t 525.48\n",
      "BsmtFullBath: \t0.43 \t 0.52\n",
      "BsmtHalfBath: \t0.06 \t 0.24\n",
      "FullBath: \t1.57 \t 0.55\n",
      "HalfBath: \t0.38 \t 0.50\n",
      "BedroomAbvGr: \t2.87 \t 0.82\n",
      "KitchenAbvGr: \t1.05 \t 0.22\n",
      "TotRmsAbvGrd: \t6.52 \t 1.63\n",
      "Fireplaces: \t0.61 \t 0.64\n",
      "GarageCars: \t1.77 \t 0.75\n",
      "GarageArea: \t472.98 \t 213.80\n",
      "WoodDeckSF: \t94.24 \t 125.34\n",
      "OpenPorchSF: \t46.66 \t 66.26\n",
      "EnclosedPorch: \t21.95 \t 61.12\n",
      "3SsnPorch: \t3.41 \t 29.32\n",
      "ScreenPorch: \t15.06 \t 55.76\n",
      "PoolArea: \t2.76 \t 40.18\n",
      "MiscVal: \t43.49 \t 496.12\n",
      "MoSold: \t6.32 \t 2.70\n"
     ]
    }
   ],
   "source": [
    "numeric_cols = ['SalePrice','TotalBsmtSF','PoolArea',\n",
    "                'MSSubClass','LotArea','OverallQual','OverallCond',\n",
    "                'YearBuilt','YearRemodAdd',\n",
    "                'BsmtFinSF1','BsmtFinSF2', 'BsmtUnfSF','YrSold','1stFlrSF', '2ndFlrSF', 'LowQualFinSF','GrLivArea',\n",
    "                'BsmtFullBath','BsmtHalfBath','FullBath', 'HalfBath', 'BedroomAbvGr', 'KitchenAbvGr', 'TotRmsAbvGrd',\n",
    "                'Fireplaces','GarageCars','GarageArea','WoodDeckSF','OpenPorchSF','EnclosedPorch','3SsnPorch',\n",
    "                'ScreenPorch','PoolArea','MiscVal','MoSold'\n",
    "               ]\n",
    "\n",
    "numeric_rdd = midata\\\n",
    "                       .select(numeric_cols)\\\n",
    "                       .rdd \\\n",
    "                       .map(lambda row: [e for e in row])\n",
    "\n",
    "mllib_stats = st.Statistics.colStats(numeric_rdd)\n",
    "\n",
    "for col, m, v in zip(numeric_cols, \n",
    "                     mllib_stats.mean(), \n",
    "                     mllib_stats.variance()):\n",
    "    print('{0}: \\t{1:.2f} \\t {2:.2f}'.format(col, m, np.sqrt(v)))"
   ]
  },
  {
   "cell_type": "code",
   "execution_count": 31,
   "metadata": {},
   "outputs": [
    {
     "name": "stdout",
     "output_type": "stream",
     "text": [
      "Id [(1, 1), (2, 1), (3, 1), (4, 1), (5, 1), (6, 1), (7, 1), (8, 1), (9, 1), (10, 1), (11, 1), (12, 1), (13, 1), (14, 1), (15, 1), (16, 1), (17, 1), (18, 1), (19, 1), (20, 1), (21, 1), (22, 1), (23, 1), (24, 1), (25, 1), (26, 1), (27, 1), (28, 1), (29, 1), (30, 1), (31, 1), (32, 1), (33, 1), (34, 1), (35, 1), (36, 1), (37, 1), (38, 1), (39, 1), (40, 1), (41, 1), (42, 1), (43, 1), (44, 1), (45, 1), (46, 1), (47, 1), (48, 1), (49, 1), (50, 1), (51, 1), (52, 1), (53, 1), (54, 1), (55, 1), (56, 1), (57, 1), (58, 1), (59, 1), (60, 1), (61, 1), (62, 1), (63, 1), (64, 1), (65, 1), (66, 1), (67, 1), (68, 1), (69, 1), (70, 1), (71, 1), (72, 1), (73, 1), (74, 1), (75, 1), (76, 1), (77, 1), (78, 1), (79, 1), (80, 1), (81, 1), (82, 1), (83, 1), (84, 1), (85, 1), (86, 1), (87, 1), (88, 1), (89, 1), (90, 1), (91, 1), (92, 1), (93, 1), (94, 1), (95, 1), (96, 1), (97, 1), (98, 1), (99, 1), (100, 1), (101, 1), (102, 1), (103, 1), (104, 1), (105, 1), (106, 1), (107, 1), (108, 1), (109, 1), (110, 1), (111, 1), (112, 1), (113, 1), (114, 1), (115, 1), (116, 1), (117, 1), (118, 1), (119, 1), (120, 1), (121, 1), (122, 1), (123, 1), (124, 1), (125, 1), (126, 1), (127, 1), (128, 1), (129, 1), (130, 1), (131, 1), (132, 1), (133, 1), (134, 1), (135, 1), (136, 1), (137, 1), (138, 1), (139, 1), (140, 1), (141, 1), (142, 1), (143, 1), (144, 1), (145, 1), (146, 1), (147, 1), (148, 1), (149, 1), (150, 1), (151, 1), (152, 1), (153, 1), (154, 1), (155, 1), (156, 1), (157, 1), (158, 1), (159, 1), (160, 1), (161, 1), (162, 1), (163, 1), (164, 1), (165, 1), (166, 1), (167, 1), (168, 1), (169, 1), (170, 1), (171, 1), (172, 1), (173, 1), (174, 1), (175, 1), (176, 1), (177, 1), (178, 1), (179, 1), (180, 1), (181, 1), (182, 1), (183, 1), (184, 1), (185, 1), (186, 1), (187, 1), (188, 1), (189, 1), (190, 1), (191, 1), (192, 1), (193, 1), (194, 1), (195, 1), (196, 1), (197, 1), (198, 1), (199, 1), (200, 1), (201, 1), (202, 1), (203, 1), (204, 1), (205, 1), (206, 1), (207, 1), (208, 1), (209, 1), (210, 1), (211, 1), (212, 1), (213, 1), (214, 1), (215, 1), (216, 1), (217, 1), (218, 1), (219, 1), (220, 1), (221, 1), (222, 1), (223, 1), (224, 1), (225, 1), (226, 1), (227, 1), (228, 1), (229, 1), (230, 1), (231, 1), (232, 1), (233, 1), (234, 1), (235, 1), (236, 1), (237, 1), (238, 1), (239, 1), (240, 1), (241, 1), (242, 1), (243, 1), (244, 1), (245, 1), (246, 1), (247, 1), (248, 1), (249, 1), (250, 1), (251, 1), (252, 1), (253, 1), (254, 1), (255, 1), (256, 1), (257, 1), (258, 1), (259, 1), (260, 1), (261, 1), (262, 1), (263, 1), (264, 1), (265, 1), (266, 1), (267, 1), (268, 1), (269, 1), (270, 1), (271, 1), (272, 1), (273, 1), (274, 1), (275, 1), (276, 1), (277, 1), (278, 1), (279, 1), (280, 1), (281, 1), (282, 1), (283, 1), (284, 1), (285, 1), (286, 1), (287, 1), (288, 1), (289, 1), (290, 1), (291, 1), (292, 1), (293, 1), (294, 1), (295, 1), (296, 1), (297, 1), (298, 1), (299, 1), (300, 1), (301, 1), (302, 1), (303, 1), (304, 1), (305, 1), (306, 1), (307, 1), (308, 1), (309, 1), (310, 1), (311, 1), (312, 1), (313, 1), (314, 1), (315, 1), (316, 1), (317, 1), (318, 1), (319, 1), (320, 1), (321, 1), (322, 1), (323, 1), (324, 1), (325, 1), (326, 1), (327, 1), (328, 1), (329, 1), (330, 1), (331, 1), (332, 1), (333, 1), (334, 1), (335, 1), (336, 1), (337, 1), (338, 1), (339, 1), (340, 1), (341, 1), (342, 1), (343, 1), (344, 1), (345, 1), (346, 1), (347, 1), (348, 1), (349, 1), (350, 1), (351, 1), (352, 1), (353, 1), (354, 1), (355, 1), (356, 1), (357, 1), (358, 1), (359, 1), (360, 1), (361, 1), (362, 1), (363, 1), (364, 1), (365, 1), (366, 1), (367, 1), (368, 1), (369, 1), (370, 1), (371, 1), (372, 1), (373, 1), (374, 1), (375, 1), (376, 1), (377, 1), (378, 1), (379, 1), (380, 1), (381, 1), (382, 1), (383, 1), (384, 1), (385, 1), (386, 1), (387, 1), (388, 1), (389, 1), (390, 1), (391, 1), (392, 1), (393, 1), (394, 1), (395, 1), (396, 1), (397, 1), (398, 1), (399, 1), (400, 1), (401, 1), (402, 1), (403, 1), (404, 1), (405, 1), (406, 1), (407, 1), (408, 1), (409, 1), (410, 1), (411, 1), (412, 1), (413, 1), (414, 1), (415, 1), (416, 1), (417, 1), (418, 1), (419, 1), (420, 1), (421, 1), (422, 1), (423, 1), (424, 1), (425, 1), (426, 1), (427, 1), (428, 1), (429, 1), (430, 1), (431, 1), (432, 1), (433, 1), (434, 1), (435, 1), (436, 1), (437, 1), (438, 1), (439, 1), (440, 1), (441, 1), (442, 1), (443, 1), (444, 1), (445, 1), (446, 1), (447, 1), (448, 1), (449, 1), (450, 1), (451, 1), (452, 1), (453, 1), (454, 1), (455, 1), (456, 1), (457, 1), (458, 1), (459, 1), (460, 1), (461, 1), (462, 1), (463, 1), (464, 1), (465, 1), (466, 1), (467, 1), (468, 1), (469, 1), (470, 1), (471, 1), (472, 1), (473, 1), (474, 1), (475, 1), (476, 1), (477, 1), (478, 1), (479, 1), (480, 1), (481, 1), (482, 1), (483, 1), (484, 1), (485, 1), (486, 1), (487, 1), (488, 1), (489, 1), (490, 1), (491, 1), (492, 1), (493, 1), (494, 1), (495, 1), (496, 1), (497, 1), (498, 1), (499, 1), (500, 1), (501, 1), (502, 1), (503, 1), (504, 1), (505, 1), (506, 1), (507, 1), (508, 1), (509, 1), (510, 1), (511, 1), (512, 1), (513, 1), (514, 1), (515, 1), (516, 1), (517, 1), (518, 1), (519, 1), (520, 1), (521, 1), (522, 1), (523, 1), (524, 1), (525, 1), (526, 1), (527, 1), (528, 1), (529, 1), (530, 1), (531, 1), (532, 1), (533, 1), (534, 1), (535, 1), (536, 1), (537, 1), (538, 1), (539, 1), (540, 1), (541, 1), (542, 1), (543, 1), (544, 1), (545, 1), (546, 1), (547, 1), (548, 1), (549, 1), (550, 1), (551, 1), (552, 1), (553, 1), (554, 1), (555, 1), (556, 1), (557, 1), (558, 1), (559, 1), (560, 1), (561, 1), (562, 1), (563, 1), (564, 1), (565, 1), (566, 1), (567, 1), (568, 1), (569, 1), (570, 1), (571, 1), (572, 1), (573, 1), (574, 1), (575, 1), (576, 1), (577, 1), (578, 1), (579, 1), (580, 1), (581, 1), (582, 1), (583, 1), (584, 1), (585, 1), (586, 1), (587, 1), (588, 1), (589, 1), (590, 1), (591, 1), (592, 1), (593, 1), (594, 1), (595, 1), (596, 1), (597, 1), (598, 1), (599, 1), (600, 1), (601, 1), (602, 1), (603, 1), (604, 1), (605, 1), (606, 1), (607, 1), (608, 1), (609, 1), (610, 1), (611, 1), (612, 1), (613, 1), (614, 1), (615, 1), (616, 1), (617, 1), (618, 1), (619, 1), (620, 1), (621, 1), (622, 1), (623, 1), (624, 1), (625, 1), (626, 1), (627, 1), (628, 1), (629, 1), (630, 1), (631, 1), (632, 1), (633, 1), (634, 1), (635, 1), (636, 1), (637, 1), (638, 1), (639, 1), (640, 1), (641, 1), (642, 1), (643, 1), (644, 1), (645, 1), (646, 1), (647, 1), (648, 1), (649, 1), (650, 1), (651, 1), (652, 1), (653, 1), (654, 1), (655, 1), (656, 1), (657, 1), (658, 1), (659, 1), (660, 1), (661, 1), (662, 1), (663, 1), (664, 1), (665, 1), (666, 1), (667, 1), (668, 1), (669, 1), (670, 1), (671, 1), (672, 1), (673, 1), (674, 1), (675, 1), (676, 1), (677, 1), (678, 1), (679, 1), (680, 1), (681, 1), (682, 1), (683, 1), (684, 1), (685, 1), (686, 1), (687, 1), (688, 1), (689, 1), (690, 1), (691, 1), (692, 1), (693, 1), (694, 1), (695, 1), (696, 1), (697, 1), (698, 1), (699, 1), (700, 1), (701, 1), (702, 1), (703, 1), (704, 1), (705, 1), (706, 1), (707, 1), (708, 1), (709, 1), (710, 1), (711, 1), (712, 1), (713, 1), (714, 1), (715, 1), (716, 1), (717, 1), (718, 1), (719, 1), (720, 1), (721, 1), (722, 1), (723, 1), (724, 1), (725, 1), (726, 1), (727, 1), (728, 1), (729, 1), (730, 1), (731, 1), (732, 1), (733, 1), (734, 1), (735, 1), (736, 1), (737, 1), (738, 1), (739, 1), (740, 1), (741, 1), (742, 1), (743, 1), (744, 1), (745, 1), (746, 1), (747, 1), (748, 1), (749, 1), (750, 1), (751, 1), (752, 1), (753, 1), (754, 1), (755, 1), (756, 1), (757, 1), (758, 1), (759, 1), (760, 1), (761, 1), (762, 1), (763, 1), (764, 1), (765, 1), (766, 1), (767, 1), (768, 1), (769, 1), (770, 1), (771, 1), (772, 1), (773, 1), (774, 1), (775, 1), (776, 1), (777, 1), (778, 1), (779, 1), (780, 1), (781, 1), (782, 1), (783, 1), (784, 1), (785, 1), (786, 1), (787, 1), (788, 1), (789, 1), (790, 1), (791, 1), (792, 1), (793, 1), (794, 1), (795, 1), (796, 1), (797, 1), (798, 1), (799, 1), (800, 1), (801, 1), (802, 1), (803, 1), (804, 1), (805, 1), (806, 1), (807, 1), (808, 1), (809, 1), (810, 1), (811, 1), (812, 1), (813, 1), (814, 1), (815, 1), (816, 1), (817, 1), (818, 1), (819, 1), (820, 1), (821, 1), (822, 1), (823, 1), (824, 1), (825, 1), (826, 1), (827, 1), (828, 1), (829, 1), (830, 1), (831, 1), (832, 1), (833, 1), (834, 1), (835, 1), (836, 1), (837, 1), (838, 1), (839, 1), (840, 1), (841, 1), (842, 1), (843, 1), (844, 1), (845, 1), (846, 1), (847, 1), (848, 1), (849, 1), (850, 1), (851, 1), (852, 1), (853, 1), (854, 1), (855, 1), (856, 1), (857, 1), (858, 1), (859, 1), (860, 1), (861, 1), (862, 1), (863, 1), (864, 1), (865, 1), (866, 1), (867, 1), (868, 1), (869, 1), (870, 1), (871, 1), (872, 1), (873, 1), (874, 1), (875, 1), (876, 1), (877, 1), (878, 1), (879, 1), (880, 1), (881, 1), (882, 1), (883, 1), (884, 1), (885, 1), (886, 1), (887, 1), (888, 1), (889, 1), (890, 1), (891, 1), (892, 1), (893, 1), (894, 1), (895, 1), (896, 1), (897, 1), (898, 1), (899, 1), (900, 1), (901, 1), (902, 1), (903, 1), (904, 1), (905, 1), (906, 1), (907, 1), (908, 1), (909, 1), (910, 1), (911, 1), (912, 1), (913, 1), (914, 1), (915, 1), (916, 1), (917, 1), (918, 1), (919, 1), (920, 1), (921, 1), (922, 1), (923, 1), (924, 1), (925, 1), (926, 1), (927, 1), (928, 1), (929, 1), (930, 1), (931, 1), (932, 1), (933, 1), (934, 1), (935, 1), (936, 1), (937, 1), (938, 1), (939, 1), (940, 1), (941, 1), (942, 1), (943, 1), (944, 1), (945, 1), (946, 1), (947, 1), (948, 1), (949, 1), (950, 1), (951, 1), (952, 1), (953, 1), (954, 1), (955, 1), (956, 1), (957, 1), (958, 1), (959, 1), (960, 1), (961, 1), (962, 1), (963, 1), (964, 1), (965, 1), (966, 1), (967, 1), (968, 1), (969, 1), (970, 1), (971, 1), (972, 1), (973, 1), (974, 1), (975, 1), (976, 1), (977, 1), (978, 1), (979, 1), (980, 1), (981, 1), (982, 1), (983, 1), (984, 1), (985, 1), (986, 1), (987, 1), (988, 1), (989, 1), (990, 1), (991, 1), (992, 1), (993, 1), (994, 1), (995, 1), (996, 1), (997, 1), (998, 1), (999, 1), (1000, 1), (1001, 1), (1002, 1), (1003, 1), (1004, 1), (1005, 1), (1006, 1), (1007, 1), (1008, 1), (1009, 1), (1010, 1), (1011, 1), (1012, 1), (1013, 1), (1014, 1), (1015, 1), (1016, 1), (1017, 1), (1018, 1), (1019, 1), (1020, 1), (1021, 1), (1022, 1), (1023, 1), (1024, 1), (1025, 1), (1026, 1), (1027, 1), (1028, 1), (1029, 1), (1030, 1), (1031, 1), (1032, 1), (1033, 1), (1034, 1), (1035, 1), (1036, 1), (1037, 1), (1038, 1), (1039, 1), (1040, 1), (1041, 1), (1042, 1), (1043, 1), (1044, 1), (1045, 1), (1046, 1), (1047, 1), (1048, 1), (1049, 1), (1050, 1), (1051, 1), (1052, 1), (1053, 1), (1054, 1), (1055, 1), (1056, 1), (1057, 1), (1058, 1), (1059, 1), (1060, 1), (1061, 1), (1062, 1), (1063, 1), (1064, 1), (1065, 1), (1066, 1), (1067, 1), (1068, 1), (1069, 1), (1070, 1), (1071, 1), (1072, 1), (1073, 1), (1074, 1), (1075, 1), (1076, 1), (1077, 1), (1078, 1), (1079, 1), (1080, 1), (1081, 1), (1082, 1), (1083, 1), (1084, 1), (1085, 1), (1086, 1), (1087, 1), (1088, 1), (1089, 1), (1090, 1), (1091, 1), (1092, 1), (1093, 1), (1094, 1), (1095, 1), (1096, 1), (1097, 1), (1098, 1), (1099, 1), (1100, 1), (1101, 1), (1102, 1), (1103, 1), (1104, 1), (1105, 1), (1106, 1), (1107, 1), (1108, 1), (1109, 1), (1110, 1), (1111, 1), (1112, 1), (1113, 1), (1114, 1), (1115, 1), (1116, 1), (1117, 1), (1118, 1), (1119, 1), (1120, 1), (1121, 1), (1122, 1), (1123, 1), (1124, 1), (1125, 1), (1126, 1), (1127, 1), (1128, 1), (1129, 1), (1130, 1), (1131, 1), (1132, 1), (1133, 1), (1134, 1), (1135, 1), (1136, 1), (1137, 1), (1138, 1), (1139, 1), (1140, 1), (1141, 1), (1142, 1), (1143, 1), (1144, 1), (1145, 1), (1146, 1), (1147, 1), (1148, 1), (1149, 1), (1150, 1), (1151, 1), (1152, 1), (1153, 1), (1154, 1), (1155, 1), (1156, 1), (1157, 1), (1158, 1), (1159, 1), (1160, 1), (1161, 1), (1162, 1), (1163, 1), (1164, 1), (1165, 1), (1166, 1), (1167, 1), (1168, 1), (1169, 1), (1170, 1), (1171, 1), (1172, 1), (1173, 1), (1174, 1), (1175, 1), (1176, 1), (1177, 1), (1178, 1), (1179, 1), (1180, 1), (1181, 1), (1182, 1), (1183, 1), (1184, 1), (1185, 1), (1186, 1), (1187, 1), (1188, 1), (1189, 1), (1190, 1), (1191, 1), (1192, 1), (1193, 1), (1194, 1), (1195, 1), (1196, 1), (1197, 1), (1198, 1), (1199, 1), (1200, 1), (1201, 1), (1202, 1), (1203, 1), (1204, 1), (1205, 1), (1206, 1), (1207, 1), (1208, 1), (1209, 1), (1210, 1), (1211, 1), (1212, 1), (1213, 1), (1214, 1), (1215, 1), (1216, 1), (1217, 1), (1218, 1), (1219, 1), (1220, 1), (1221, 1), (1222, 1), (1223, 1), (1224, 1), (1225, 1), (1226, 1), (1227, 1), (1228, 1), (1229, 1), (1230, 1), (1231, 1), (1232, 1), (1233, 1), (1234, 1), (1235, 1), (1236, 1), (1237, 1), (1238, 1), (1239, 1), (1240, 1), (1241, 1), (1242, 1), (1243, 1), (1244, 1), (1245, 1), (1246, 1), (1247, 1), (1248, 1), (1249, 1), (1250, 1), (1251, 1), (1252, 1), (1253, 1), (1254, 1), (1255, 1), (1256, 1), (1257, 1), (1258, 1), (1259, 1), (1260, 1), (1261, 1), (1262, 1), (1263, 1), (1264, 1), (1265, 1), (1266, 1), (1267, 1), (1268, 1), (1269, 1), (1270, 1), (1271, 1), (1272, 1), (1273, 1), (1274, 1), (1275, 1), (1276, 1), (1277, 1), (1278, 1), (1279, 1), (1280, 1), (1281, 1), (1282, 1), (1283, 1), (1284, 1), (1285, 1), (1286, 1), (1287, 1), (1288, 1), (1289, 1), (1290, 1), (1291, 1), (1292, 1), (1293, 1), (1294, 1), (1295, 1), (1296, 1), (1297, 1), (1298, 1), (1299, 1), (1300, 1), (1301, 1), (1302, 1), (1303, 1), (1304, 1), (1305, 1), (1306, 1), (1307, 1), (1308, 1), (1309, 1), (1310, 1), (1311, 1), (1312, 1), (1313, 1), (1314, 1), (1315, 1), (1316, 1), (1317, 1), (1318, 1), (1319, 1), (1320, 1), (1321, 1), (1322, 1), (1323, 1), (1324, 1), (1325, 1), (1326, 1), (1327, 1), (1328, 1), (1329, 1), (1330, 1), (1331, 1), (1332, 1), (1333, 1), (1334, 1), (1335, 1), (1336, 1), (1337, 1), (1338, 1), (1339, 1), (1340, 1), (1341, 1), (1342, 1), (1343, 1), (1344, 1), (1345, 1), (1346, 1), (1347, 1), (1348, 1), (1349, 1), (1350, 1), (1351, 1), (1352, 1), (1353, 1), (1354, 1), (1355, 1), (1356, 1), (1357, 1), (1358, 1), (1359, 1), (1360, 1), (1361, 1), (1362, 1), (1363, 1), (1364, 1), (1365, 1), (1366, 1), (1367, 1), (1368, 1), (1369, 1), (1370, 1), (1371, 1), (1372, 1), (1373, 1), (1374, 1), (1375, 1), (1376, 1), (1377, 1), (1378, 1), (1379, 1), (1380, 1), (1381, 1), (1382, 1), (1383, 1), (1384, 1), (1385, 1), (1386, 1), (1387, 1), (1388, 1), (1389, 1), (1390, 1), (1391, 1), (1392, 1), (1393, 1), (1394, 1), (1395, 1), (1396, 1), (1397, 1), (1398, 1), (1399, 1), (1400, 1), (1401, 1), (1402, 1), (1403, 1), (1404, 1), (1405, 1), (1406, 1), (1407, 1), (1408, 1), (1409, 1), (1410, 1), (1411, 1), (1412, 1), (1413, 1), (1414, 1), (1415, 1), (1416, 1), (1417, 1), (1418, 1), (1419, 1), (1420, 1), (1421, 1), (1422, 1), (1423, 1), (1424, 1), (1425, 1), (1426, 1), (1427, 1), (1428, 1), (1429, 1), (1430, 1), (1431, 1), (1432, 1), (1433, 1), (1434, 1), (1435, 1), (1436, 1), (1437, 1), (1438, 1), (1439, 1), (1440, 1), (1441, 1), (1442, 1), (1443, 1), (1444, 1), (1445, 1), (1446, 1), (1447, 1), (1448, 1), (1449, 1), (1450, 1), (1451, 1), (1452, 1), (1453, 1), (1454, 1), (1455, 1), (1456, 1), (1457, 1), (1458, 1), (1459, 1), (1460, 1)]\n"
     ]
    },
    {
     "name": "stdout",
     "output_type": "stream",
     "text": [
      "MSZoning [('RL', 1151), ('RM', 218), ('FV', 65), ('RH', 16), ('C (all)', 10)]\n",
      "LotFrontage [('NA', 259), ('60', 143), ('70', 70), ('80', 69), ('50', 57), ('75', 53), ('65', 44), ('85', 40), ('78', 25), ('21', 23), ('90', 23), ('68', 19), ('24', 19), ('64', 19), ('73', 18), ('72', 17), ('63', 17), ('55', 17), ('79', 17), ('100', 16), ('51', 15), ('66', 15), ('74', 15), ('52', 14), ('59', 13), ('57', 12), ('40', 12), ('82', 12), ('71', 12), ('67', 12), ('43', 12), ('76', 11), ('69', 11), ('34', 10), ('88', 10), ('92', 10), ('86', 10), ('53', 10), ('84', 9), ('44', 9), ('77', 9), ('62', 9), ('35', 9), ('98', 8), ('61', 8), ('93', 8), ('96', 8), ('95', 7), ('120', 7), ('107', 7), ('58', 7), ('91', 6), ('110', 6), ('48', 6), ('89', 6), ('81', 6), ('105', 6), ('94', 6), ('54', 6), ('41', 6), ('30', 6), ('36', 6), ('47', 5), ('32', 5), ('83', 5), ('37', 5), ('87', 5), ('56', 5), ('49', 4), ('102', 4), ('42', 4), ('108', 3), ('99', 3), ('103', 3), ('130', 3), ('45', 3), ('104', 3), ('101', 2), ('115', 2), ('121', 2), ('122', 2), ('134', 2), ('97', 2), ('174', 2), ('129', 2), ('118', 2), ('116', 2), ('109', 2), ('114', 2), ('313', 2), ('124', 2), ('112', 1), ('33', 1), ('141', 1), ('140', 1), ('150', 1), ('111', 1), ('38', 1), ('137', 1), ('106', 1), ('39', 1), ('144', 1), ('128', 1), ('149', 1), ('168', 1), ('182', 1), ('138', 1), ('160', 1), ('152', 1), ('153', 1), ('46', 1)]\n",
      "Street [('Pave', 1454), ('Grvl', 6)]\n",
      "Alley [('NA', 1369), ('Grvl', 50), ('Pave', 41)]\n",
      "LotShape [('Reg', 925), ('IR1', 484), ('IR2', 41), ('IR3', 10)]\n",
      "LandContour [('Lvl', 1311), ('Bnk', 63), ('HLS', 50), ('Low', 36)]\n",
      "Utilities [('AllPub', 1459), ('NoSeWa', 1)]\n",
      "LotConfig [('Inside', 1052), ('Corner', 263), ('CulDSac', 94), ('FR2', 47), ('FR3', 4)]\n",
      "LandSlope [('Gtl', 1382), ('Mod', 65), ('Sev', 13)]\n",
      "Neighborhood [('NAmes', 225), ('CollgCr', 150), ('OldTown', 113), ('Edwards', 100), ('Somerst', 86), ('Gilbert', 79), ('NridgHt', 77), ('Sawyer', 74), ('NWAmes', 73), ('SawyerW', 59), ('BrkSide', 58), ('Crawfor', 51), ('Mitchel', 49), ('NoRidge', 41), ('Timber', 38), ('IDOTRR', 37), ('ClearCr', 28), ('StoneBr', 25), ('SWISU', 25), ('MeadowV', 17), ('Blmngtn', 17), ('BrDale', 16), ('Veenker', 11), ('NPkVill', 9), ('Blueste', 2)]\n",
      "Condition1 [('Norm', 1260), ('Feedr', 81), ('Artery', 48), ('RRAn', 26), ('PosN', 19), ('RRAe', 11), ('PosA', 8), ('RRNn', 5), ('RRNe', 2)]\n",
      "Condition2 [('Norm', 1445), ('Feedr', 6), ('Artery', 2), ('RRNn', 2), ('PosN', 2), ('PosA', 1), ('RRAn', 1), ('RRAe', 1)]\n",
      "BldgType [('1Fam', 1220), ('TwnhsE', 114), ('Duplex', 52), ('Twnhs', 43), ('2fmCon', 31)]\n",
      "HouseStyle [('1Story', 726), ('2Story', 445), ('1.5Fin', 154), ('SLvl', 65), ('SFoyer', 37), ('1.5Unf', 14), ('2.5Unf', 11), ('2.5Fin', 8)]\n",
      "RoofStyle [('Gable', 1141), ('Hip', 286), ('Flat', 13), ('Gambrel', 11), ('Mansard', 7), ('Shed', 2)]\n",
      "RoofMatl [('CompShg', 1434), ('Tar&Grv', 11), ('WdShngl', 6), ('WdShake', 5), ('Metal', 1), ('Membran', 1), ('Roll', 1), ('ClyTile', 1)]\n",
      "Exterior1st [('VinylSd', 515), ('HdBoard', 222), ('MetalSd', 220), ('Wd Sdng', 206), ('Plywood', 108), ('CemntBd', 61), ('BrkFace', 50), ('WdShing', 26), ('Stucco', 25), ('AsbShng', 20), ('BrkComm', 2), ('Stone', 2), ('AsphShn', 1), ('ImStucc', 1), ('CBlock', 1)]\n",
      "Exterior2nd [('VinylSd', 504), ('MetalSd', 214), ('HdBoard', 207), ('Wd Sdng', 197), ('Plywood', 142), ('CmentBd', 60), ('Wd Shng', 38), ('Stucco', 26), ('BrkFace', 25), ('AsbShng', 20), ('ImStucc', 10), ('Brk Cmn', 7), ('Stone', 5), ('AsphShn', 3), ('Other', 1), ('CBlock', 1)]\n",
      "MasVnrType [('None', 864), ('BrkFace', 445), ('Stone', 128), ('BrkCmn', 15), ('NA', 8)]\n",
      "MasVnrArea [('0', 861), ('180', 8), ('NA', 8), ('108', 8), ('72', 8), ('120', 7), ('16', 7), ('200', 6), ('340', 6), ('106', 6), ('80', 6), ('132', 5), ('320', 5), ('84', 5), ('360', 5), ('170', 5), ('196', 4), ('246', 4), ('456', 4), ('178', 4), ('40', 4), ('76', 4), ('183', 4), ('336', 4), ('220', 4), ('288', 4), ('252', 4), ('300', 4), ('268', 4), ('270', 4), ('210', 4), ('100', 4), ('168', 4), ('216', 4), ('160', 4), ('350', 3), ('186', 3), ('240', 3), ('272', 3), ('104', 3), ('116', 3), ('85', 3), ('136', 3), ('70', 3), ('50', 3), ('226', 3), ('128', 3), ('312', 3), ('174', 3), ('166', 3), ('256', 3), ('176', 3), ('74', 3), ('145', 3), ('42', 3), ('110', 3), ('82', 3), ('208', 3), ('420', 3), ('99', 3), ('169', 3), ('90', 3), ('130', 3), ('148', 3), ('44', 3), ('162', 2), ('306', 2), ('212', 2), ('281', 2), ('650', 2), ('101', 2), ('344', 2), ('66', 2), ('284', 2), ('203', 2), ('68', 2), ('480', 2), ('184', 2), ('135', 2), ('266', 2), ('112', 2), ('98', 2), ('205', 2), ('260', 2), ('153', 2), ('472', 2), ('302', 2), ('172', 2), ('238', 2), ('113', 2), ('30', 2), ('362', 2), ('305', 2), ('125', 2), ('232', 2), ('18', 2), ('304', 2), ('215', 2), ('285', 2), ('94', 2), ('182', 2), ('250', 2), ('245', 2), ('335', 2), ('192', 2), ('233', 2), ('513', 2), ('164', 2), ('351', 2), ('660', 2), ('54', 2), ('147', 2), ('289', 2), ('95', 2), ('442', 2), ('338', 2), ('328', 2), ('1', 2), ('157', 2), ('140', 2), ('424', 2), ('243', 2), ('158', 2), ('189', 2), ('117', 2), ('60', 2), ('92', 2), ('75', 2), ('105', 2), ('298', 2), ('236', 2), ('144', 2), ('423', 2), ('206', 2), ('425', 2), ('45', 2), ('149', 2), ('143', 2), ('171', 2), ('318', 2), ('286', 1), ('380', 1), ('640', 1), ('412', 1), ('1031', 1), ('573', 1), ('287', 1), ('167', 1), ('1115', 1), ('576', 1), ('443', 1), ('468', 1), ('22', 1), ('48', 1), ('28', 1), ('600', 1), ('768', 1), ('1129', 1), ('309', 1), ('436', 1), ('664', 1), ('653', 1), ('491', 1), ('748', 1), ('275', 1), ('138', 1), ('262', 1), ('64', 1), ('922', 1), ('142', 1), ('290', 1), ('127', 1), ('506', 1), ('297', 1), ('604', 1), ('254', 1), ('36', 1), ('102', 1), ('481', 1), ('399', 1), ('46', 1), ('348', 1), ('315', 1), ('299', 1), ('31', 1), ('34', 1), ('1600', 1), ('365', 1), ('56', 1), ('150', 1), ('278', 1), ('225', 1), ('370', 1), ('388', 1), ('175', 1), ('296', 1), ('146', 1), ('616', 1), ('870', 1), ('530', 1), ('500', 1), ('510', 1), ('247', 1), ('255', 1), ('432', 1), ('126', 1), ('473', 1), ('376', 1), ('161', 1), ('224', 1), ('248', 1), ('772', 1), ('435', 1), ('378', 1), ('562', 1), ('89', 1), ('333', 1), ('921', 1), ('762', 1), ('594', 1), ('219', 1), ('188', 1), ('479', 1), ('584', 1), ('292', 1), ('207', 1), ('97', 1), ('459', 1), ('280', 1), ('204', 1), ('156', 1), ('452', 1), ('261', 1), ('259', 1), ('209', 1), ('263', 1), ('381', 1), ('528', 1), ('258', 1), ('464', 1), ('57', 1), ('1170', 1), ('293', 1), ('630', 1), ('466', 1), ('109', 1), ('41', 1), ('651', 1), ('202', 1), ('894', 1), ('673', 1), ('603', 1), ('375', 1), ('38', 1), ('11', 1), ('860', 1), ('1047', 1), ('816', 1), ('387', 1), ('223', 1), ('137', 1), ('115', 1), ('274', 1), ('122', 1), ('415', 1), ('760', 1), ('27', 1), ('361', 1), ('342', 1), ('541', 1), ('151', 1), ('975', 1), ('450', 1), ('230', 1), ('571', 1), ('24', 1), ('53', 1), ('14', 1), ('324', 1), ('295', 1), ('396', 1), ('67', 1), ('154', 1), ('1378', 1), ('337', 1), ('51', 1), ('234', 1), ('63', 1), ('766', 1), ('32', 1), ('81', 1), ('163', 1), ('554', 1), ('218', 1), ('632', 1), ('114', 1), ('567', 1), ('359', 1), ('451', 1), ('621', 1), ('788', 1), ('86', 1), ('796', 1), ('391', 1), ('228', 1), ('88', 1), ('165', 1), ('428', 1), ('410', 1), ('564', 1), ('368', 1), ('579', 1), ('65', 1), ('705', 1), ('408', 1), ('244', 1), ('123', 1), ('366', 1), ('731', 1), ('448', 1), ('294', 1), ('310', 1), ('237', 1), ('426', 1), ('96', 1), ('438', 1), ('194', 1), ('119', 1)]\n",
      "ExterQual [('TA', 906), ('Gd', 488), ('Ex', 52), ('Fa', 14)]\n",
      "ExterCond [('TA', 1282), ('Gd', 146), ('Fa', 28), ('Ex', 3), ('Po', 1)]\n",
      "Foundation [('PConc', 647), ('CBlock', 634), ('BrkTil', 146), ('Slab', 24), ('Stone', 6), ('Wood', 3)]\n",
      "BsmtQual [('TA', 649), ('Gd', 618), ('Ex', 121), ('NA', 37), ('Fa', 35)]\n",
      "BsmtCond [('TA', 1311), ('Gd', 65), ('Fa', 45), ('NA', 37), ('Po', 2)]\n",
      "BsmtExposure [('No', 953), ('Av', 221), ('Gd', 134), ('Mn', 114), ('NA', 38)]\n",
      "BsmtFinType1 [('Unf', 430), ('GLQ', 418), ('ALQ', 220), ('BLQ', 148), ('Rec', 133), ('LwQ', 74), ('NA', 37)]\n",
      "BsmtFinType2 [('Unf', 1256), ('Rec', 54), ('LwQ', 46), ('NA', 38), ('BLQ', 33), ('ALQ', 19), ('GLQ', 14)]\n",
      "Heating [('GasA', 1428), ('GasW', 18), ('Grav', 7), ('Wall', 4), ('OthW', 2), ('Floor', 1)]\n",
      "HeatingQC [('Ex', 741), ('TA', 428), ('Gd', 241), ('Fa', 49), ('Po', 1)]\n"
     ]
    },
    {
     "name": "stdout",
     "output_type": "stream",
     "text": [
      "CentralAir [('Y', 1365), ('N', 95)]\n",
      "Electrical [('SBrkr', 1334), ('FuseA', 94), ('FuseF', 27), ('FuseP', 3), ('Mix', 1), ('NA', 1)]\n",
      "KitchenQual [('TA', 735), ('Gd', 586), ('Ex', 100), ('Fa', 39)]\n",
      "Functional [('Typ', 1360), ('Min2', 34), ('Min1', 31), ('Mod', 15), ('Maj1', 14), ('Maj2', 5), ('Sev', 1)]\n",
      "FireplaceQu [('NA', 690), ('Gd', 380), ('TA', 313), ('Fa', 33), ('Ex', 24), ('Po', 20)]\n",
      "GarageType [('Attchd', 870), ('Detchd', 387), ('BuiltIn', 88), ('NA', 81), ('Basment', 19), ('CarPort', 9), ('2Types', 6)]\n",
      "GarageYrBlt [('NA', 81), ('2005', 65), ('2006', 59), ('2004', 53), ('2003', 50), ('2007', 49), ('1977', 35), ('1998', 31), ('1999', 30), ('1976', 29), ('2008', 29), ('2000', 27), ('2002', 26), ('1968', 26), ('1950', 24), ('1993', 22), ('1965', 21), ('1962', 21), ('1958', 21), ('1966', 21), ('2009', 21), ('2001', 20), ('1970', 20), ('1957', 20), ('1996', 20), ('1960', 19), ('1954', 19), ('1997', 19), ('1978', 19), ('1995', 18), ('1964', 18), ('1974', 18), ('1994', 18), ('1959', 17), ('1963', 16), ('1990', 16), ('1956', 16), ('1967', 15), ('1979', 15), ('1969', 15), ('1980', 15), ('1973', 14), ('1920', 14), ('1988', 14), ('1972', 14), ('1940', 14), ('1961', 13), ('1971', 13), ('1955', 13), ('1992', 13), ('1953', 12), ('1987', 11), ('1948', 11), ('1985', 10), ('1981', 10), ('1989', 10), ('1925', 10), ('1941', 10), ('1939', 9), ('1991', 9), ('1975', 9), ('1930', 8), ('1984', 8), ('1949', 8), ('1983', 7), ('1951', 6), ('1926', 6), ('1986', 6), ('1936', 5), ('1916', 5), ('1922', 5), ('1931', 4), ('1935', 4), ('1945', 4), ('1982', 4), ('1928', 4), ('1946', 4), ('1921', 3), ('1923', 3), ('1932', 3), ('1924', 3), ('1910', 3), ('2010', 3), ('1938', 3), ('1952', 3), ('1915', 2), ('1918', 2), ('1947', 2), ('1937', 2), ('1942', 2), ('1934', 2), ('1914', 2), ('1929', 2), ('1900', 1), ('1927', 1), ('1906', 1), ('1908', 1), ('1933', 1)]\n",
      "GarageFinish [('Unf', 605), ('RFn', 422), ('Fin', 352), ('NA', 81)]\n",
      "GarageQual [('TA', 1311), ('NA', 81), ('Fa', 48), ('Gd', 14), ('Ex', 3), ('Po', 3)]\n",
      "GarageCond [('TA', 1326), ('NA', 81), ('Fa', 35), ('Gd', 9), ('Po', 7), ('Ex', 2)]\n",
      "PavedDrive [('Y', 1340), ('N', 90), ('P', 30)]\n",
      "PoolQC [('NA', 1453), ('Gd', 3), ('Ex', 2), ('Fa', 2)]\n",
      "Fence [('NA', 1179), ('MnPrv', 157), ('GdPrv', 59), ('GdWo', 54), ('MnWw', 11)]\n",
      "MiscFeature [('NA', 1406), ('Shed', 49), ('Gar2', 2), ('Othr', 2), ('TenC', 1)]\n",
      "SaleType [('WD', 1267), ('New', 122), ('COD', 43), ('ConLD', 9), ('ConLI', 5), ('ConLw', 5), ('CWD', 4), ('Oth', 3), ('Con', 2)]\n",
      "SaleCondition [('Normal', 1198), ('Partial', 125), ('Abnorml', 101), ('Family', 20), ('Alloca', 12), ('AdjLand', 4)]\n"
     ]
    }
   ],
   "source": [
    "categorical_cols = [e for e in midata.columns \n",
    "                    if e not in numeric_cols]\n",
    "\n",
    "categorical_rdd = midata\\\n",
    "                       .select(categorical_cols)\\\n",
    "                       .rdd \\\n",
    "                       .map(lambda row: [e for e in row])\n",
    "            \n",
    "for i, col in enumerate(categorical_cols):\n",
    "    agg = categorical_rdd \\\n",
    "        .groupBy(lambda row: row[i]) \\\n",
    "        .map(lambda row: (row[0], len(row[1])))\n",
    "        \n",
    "    print(col, sorted(agg.collect(), \n",
    "                      key=lambda el: el[1], \n",
    "                      reverse=True))"
   ]
  },
  {
   "cell_type": "code",
   "execution_count": 32,
   "metadata": {},
   "outputs": [
    {
     "name": "stdout",
     "output_type": "stream",
     "text": [
      "SalePrice-to-TotalBsmtSF: 0.61\n",
      "SalePrice-to-OverallQual: 0.79\n",
      "SalePrice-to-YearBuilt: 0.52\n",
      "SalePrice-to-YearRemodAdd: 0.51\n",
      "SalePrice-to-1stFlrSF: 0.61\n",
      "SalePrice-to-GrLivArea: 0.71\n",
      "SalePrice-to-FullBath: 0.56\n",
      "SalePrice-to-TotRmsAbvGrd: 0.53\n",
      "SalePrice-to-GarageCars: 0.64\n",
      "SalePrice-to-GarageArea: 0.62\n",
      "TotalBsmtSF-to-SalePrice: 0.61\n",
      "TotalBsmtSF-to-OverallQual: 0.54\n",
      "TotalBsmtSF-to-BsmtFinSF1: 0.52\n",
      "TotalBsmtSF-to-1stFlrSF: 0.82\n",
      "PoolArea-to-PoolArea: 1.00\n",
      "OverallQual-to-SalePrice: 0.79\n",
      "OverallQual-to-TotalBsmtSF: 0.54\n",
      "OverallQual-to-YearBuilt: 0.57\n",
      "OverallQual-to-YearRemodAdd: 0.55\n",
      "OverallQual-to-GrLivArea: 0.59\n",
      "OverallQual-to-FullBath: 0.55\n",
      "OverallQual-to-GarageCars: 0.60\n",
      "OverallQual-to-GarageArea: 0.56\n",
      "YearBuilt-to-SalePrice: 0.52\n",
      "YearBuilt-to-OverallQual: 0.57\n",
      "YearBuilt-to-YearRemodAdd: 0.59\n",
      "YearBuilt-to-GarageCars: 0.54\n",
      "YearRemodAdd-to-SalePrice: 0.51\n",
      "YearRemodAdd-to-OverallQual: 0.55\n",
      "YearRemodAdd-to-YearBuilt: 0.59\n",
      "BsmtFinSF1-to-TotalBsmtSF: 0.52\n",
      "BsmtFinSF1-to-BsmtFullBath: 0.65\n",
      "1stFlrSF-to-SalePrice: 0.61\n",
      "1stFlrSF-to-TotalBsmtSF: 0.82\n",
      "1stFlrSF-to-GrLivArea: 0.57\n",
      "2ndFlrSF-to-GrLivArea: 0.69\n",
      "2ndFlrSF-to-HalfBath: 0.61\n",
      "2ndFlrSF-to-BedroomAbvGr: 0.50\n",
      "2ndFlrSF-to-TotRmsAbvGrd: 0.62\n",
      "GrLivArea-to-SalePrice: 0.71\n",
      "GrLivArea-to-OverallQual: 0.59\n",
      "GrLivArea-to-1stFlrSF: 0.57\n",
      "GrLivArea-to-2ndFlrSF: 0.69\n",
      "GrLivArea-to-FullBath: 0.63\n",
      "GrLivArea-to-BedroomAbvGr: 0.52\n",
      "GrLivArea-to-TotRmsAbvGrd: 0.83\n",
      "BsmtFullBath-to-BsmtFinSF1: 0.65\n",
      "FullBath-to-SalePrice: 0.56\n",
      "FullBath-to-OverallQual: 0.55\n",
      "FullBath-to-GrLivArea: 0.63\n",
      "FullBath-to-TotRmsAbvGrd: 0.55\n",
      "HalfBath-to-2ndFlrSF: 0.61\n",
      "BedroomAbvGr-to-2ndFlrSF: 0.50\n",
      "BedroomAbvGr-to-GrLivArea: 0.52\n",
      "BedroomAbvGr-to-TotRmsAbvGrd: 0.68\n",
      "TotRmsAbvGrd-to-SalePrice: 0.53\n",
      "TotRmsAbvGrd-to-2ndFlrSF: 0.62\n",
      "TotRmsAbvGrd-to-GrLivArea: 0.83\n",
      "TotRmsAbvGrd-to-FullBath: 0.55\n",
      "TotRmsAbvGrd-to-BedroomAbvGr: 0.68\n",
      "GarageCars-to-SalePrice: 0.64\n",
      "GarageCars-to-OverallQual: 0.60\n",
      "GarageCars-to-YearBuilt: 0.54\n",
      "GarageCars-to-GarageArea: 0.88\n",
      "GarageArea-to-SalePrice: 0.62\n",
      "GarageArea-to-OverallQual: 0.56\n",
      "GarageArea-to-GarageCars: 0.88\n",
      "PoolArea-to-PoolArea: 1.00\n"
     ]
    }
   ],
   "source": [
    "corrs = st.Statistics.corr(numeric_rdd)\n",
    "\n",
    "for i, el in enumerate(corrs > 0.5):\n",
    "    correlated = [\n",
    "        (numeric_cols[j], corrs[i][j]) \n",
    "        for j, e in enumerate(el) \n",
    "        if e == 1.0 and j != i]\n",
    "    \n",
    "    if len(correlated) > 0:\n",
    "        for e in correlated:\n",
    "            print('{0}-to-{1}: {2:.2f}' \\\n",
    "                  .format(numeric_cols[i], e[0], e[1]))"
   ]
  },
  {
   "cell_type": "code",
   "execution_count": 33,
   "metadata": {},
   "outputs": [
    {
     "ename": "AssertionError",
     "evalue": "",
     "output_type": "error",
     "traceback": [
      "\u001b[0;31m---------------------------------------------------------------------------\u001b[0m",
      "\u001b[0;31mAssertionError\u001b[0m                            Traceback (most recent call last)",
      "\u001b[0;32m<ipython-input-33-65d018677979>\u001b[0m in \u001b[0;36m<module>\u001b[0;34m\u001b[0m\n\u001b[1;32m     13\u001b[0m \u001b[0;34m\u001b[0m\u001b[0m\n\u001b[1;32m     14\u001b[0m     \u001b[0mrow_length\u001b[0m \u001b[0;34m=\u001b[0m \u001b[0mlen\u001b[0m\u001b[0;34m(\u001b[0m\u001b[0magg\u001b[0m\u001b[0;34m.\u001b[0m\u001b[0mcollect\u001b[0m\u001b[0;34m(\u001b[0m\u001b[0;34m)\u001b[0m\u001b[0;34m[\u001b[0m\u001b[0;36m0\u001b[0m\u001b[0;34m]\u001b[0m\u001b[0;34m)\u001b[0m \u001b[0;34m-\u001b[0m \u001b[0;36m1\u001b[0m\u001b[0;34m\u001b[0m\u001b[0;34m\u001b[0m\u001b[0m\n\u001b[0;32m---> 15\u001b[0;31m     \u001b[0magg\u001b[0m \u001b[0;34m=\u001b[0m \u001b[0mln\u001b[0m\u001b[0;34m.\u001b[0m\u001b[0mMatrices\u001b[0m\u001b[0;34m.\u001b[0m\u001b[0mdense\u001b[0m\u001b[0;34m(\u001b[0m\u001b[0mrow_length\u001b[0m\u001b[0;34m,\u001b[0m \u001b[0;36m2\u001b[0m\u001b[0;34m,\u001b[0m \u001b[0magg_rdd\u001b[0m\u001b[0;34m)\u001b[0m\u001b[0;34m\u001b[0m\u001b[0;34m\u001b[0m\u001b[0m\n\u001b[0m\u001b[1;32m     16\u001b[0m \u001b[0;34m\u001b[0m\u001b[0m\n\u001b[1;32m     17\u001b[0m     \u001b[0mtest\u001b[0m \u001b[0;34m=\u001b[0m \u001b[0mst\u001b[0m\u001b[0;34m.\u001b[0m\u001b[0mStatistics\u001b[0m\u001b[0;34m.\u001b[0m\u001b[0mchiSqTest\u001b[0m\u001b[0;34m(\u001b[0m\u001b[0magg\u001b[0m\u001b[0;34m)\u001b[0m\u001b[0;34m\u001b[0m\u001b[0;34m\u001b[0m\u001b[0m\n",
      "\u001b[0;32m/usr/local/Cellar/apache-spark/2.4.5/libexec/python/pyspark/mllib/linalg/__init__.py\u001b[0m in \u001b[0;36mdense\u001b[0;34m(numRows, numCols, values)\u001b[0m\n\u001b[1;32m   1316\u001b[0m         \u001b[0mCreate\u001b[0m \u001b[0ma\u001b[0m \u001b[0mDenseMatrix\u001b[0m\u001b[0;34m\u001b[0m\u001b[0;34m\u001b[0m\u001b[0m\n\u001b[1;32m   1317\u001b[0m         \"\"\"\n\u001b[0;32m-> 1318\u001b[0;31m         \u001b[0;32mreturn\u001b[0m \u001b[0mDenseMatrix\u001b[0m\u001b[0;34m(\u001b[0m\u001b[0mnumRows\u001b[0m\u001b[0;34m,\u001b[0m \u001b[0mnumCols\u001b[0m\u001b[0;34m,\u001b[0m \u001b[0mvalues\u001b[0m\u001b[0;34m)\u001b[0m\u001b[0;34m\u001b[0m\u001b[0;34m\u001b[0m\u001b[0m\n\u001b[0m\u001b[1;32m   1319\u001b[0m \u001b[0;34m\u001b[0m\u001b[0m\n\u001b[1;32m   1320\u001b[0m     \u001b[0;34m@\u001b[0m\u001b[0mstaticmethod\u001b[0m\u001b[0;34m\u001b[0m\u001b[0;34m\u001b[0m\u001b[0m\n",
      "\u001b[0;32m/usr/local/Cellar/apache-spark/2.4.5/libexec/python/pyspark/mllib/linalg/__init__.py\u001b[0m in \u001b[0;36m__init__\u001b[0;34m(self, numRows, numCols, values, isTransposed)\u001b[0m\n\u001b[1;32m   1028\u001b[0m         \u001b[0mMatrix\u001b[0m\u001b[0;34m.\u001b[0m\u001b[0m__init__\u001b[0m\u001b[0;34m(\u001b[0m\u001b[0mself\u001b[0m\u001b[0;34m,\u001b[0m \u001b[0mnumRows\u001b[0m\u001b[0;34m,\u001b[0m \u001b[0mnumCols\u001b[0m\u001b[0;34m,\u001b[0m \u001b[0misTransposed\u001b[0m\u001b[0;34m)\u001b[0m\u001b[0;34m\u001b[0m\u001b[0;34m\u001b[0m\u001b[0m\n\u001b[1;32m   1029\u001b[0m         \u001b[0mvalues\u001b[0m \u001b[0;34m=\u001b[0m \u001b[0mself\u001b[0m\u001b[0;34m.\u001b[0m\u001b[0m_convert_to_array\u001b[0m\u001b[0;34m(\u001b[0m\u001b[0mvalues\u001b[0m\u001b[0;34m,\u001b[0m \u001b[0mnp\u001b[0m\u001b[0;34m.\u001b[0m\u001b[0mfloat64\u001b[0m\u001b[0;34m)\u001b[0m\u001b[0;34m\u001b[0m\u001b[0;34m\u001b[0m\u001b[0m\n\u001b[0;32m-> 1030\u001b[0;31m         \u001b[0;32massert\u001b[0m \u001b[0mlen\u001b[0m\u001b[0;34m(\u001b[0m\u001b[0mvalues\u001b[0m\u001b[0;34m)\u001b[0m \u001b[0;34m==\u001b[0m \u001b[0mnumRows\u001b[0m \u001b[0;34m*\u001b[0m \u001b[0mnumCols\u001b[0m\u001b[0;34m\u001b[0m\u001b[0;34m\u001b[0m\u001b[0m\n\u001b[0m\u001b[1;32m   1031\u001b[0m         \u001b[0mself\u001b[0m\u001b[0;34m.\u001b[0m\u001b[0mvalues\u001b[0m \u001b[0;34m=\u001b[0m \u001b[0mvalues\u001b[0m\u001b[0;34m\u001b[0m\u001b[0;34m\u001b[0m\u001b[0m\n\u001b[1;32m   1032\u001b[0m \u001b[0;34m\u001b[0m\u001b[0m\n",
      "\u001b[0;31mAssertionError\u001b[0m: "
     ]
    }
   ],
   "source": [
    "for cat in categorical_cols[1:]:\n",
    "    agg = midata \\\n",
    "        .groupby('SalePrice') \\\n",
    "        .pivot(cat) \\\n",
    "        .count()    \n",
    "\n",
    "    agg_rdd = agg \\\n",
    "        .rdd\\\n",
    "        .map(lambda row: (row[1:])) \\\n",
    "        .flatMap(lambda row: \n",
    "                 [0 if e == None else e for e in row]) \\\n",
    "        .collect()\n",
    "\n",
    "    row_length = len(agg.collect()[0]) - 1\n",
    "    agg = ln.Matrices.dense(row_length, 2, agg_rdd)\n",
    "    \n",
    "    test = st.Statistics.chiSqTest(agg)\n",
    "    print(cat, round(test.pValue, 4))"
   ]
  },
  {
   "cell_type": "code",
   "execution_count": null,
   "metadata": {},
   "outputs": [],
   "source": []
  }
 ],
 "metadata": {
  "kernelspec": {
   "display_name": "Python 3",
   "language": "python",
   "name": "python3"
  },
  "language_info": {
   "codemirror_mode": {
    "name": "ipython",
    "version": 3
   },
   "file_extension": ".py",
   "mimetype": "text/x-python",
   "name": "python",
   "nbconvert_exporter": "python",
   "pygments_lexer": "ipython3",
   "version": "3.7.4"
  }
 },
 "nbformat": 4,
 "nbformat_minor": 2
}
