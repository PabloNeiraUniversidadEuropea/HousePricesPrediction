{
 "cells": [
  {
   "cell_type": "code",
   "execution_count": 1,
   "metadata": {},
   "outputs": [
    {
     "name": "stdout",
     "output_type": "stream",
     "text": [
      "<SparkContext master=local[3] appName=pyspark-shell>\n"
     ]
    }
   ],
   "source": [
    "\n",
    "import findspark\n",
    "findspark.init()\n",
    "findspark.find()\n",
    "import pyspark\n",
    "findspark.find()\n",
    "from pyspark import SparkContext\n",
    "sc=SparkContext(master=\"local[3]\")\n",
    "print(sc)\n",
    "from pyspark.sql.session import SparkSession\n",
    "spark = SparkSession.builder.appName(\"spark_airport\").getOrCreate()"
   ]
  },
  {
   "cell_type": "code",
   "execution_count": 4,
   "metadata": {},
   "outputs": [],
   "source": [
    "from pyspark.ml import Pipeline\n",
    "from pyspark.mllib.linalg import Vectors\n",
    "from pyspark.ml.feature import VectorAssembler\n",
    "from pyspark.ml.evaluation import RegressionEvaluator\n",
    "from pyspark.ml.regression import RandomForestRegressionModel, RandomForestRegressor\n",
    "from pyspark.ml.regression import LinearRegression\n",
    "from pyspark.ml.regression import GBTRegressionModel, GBTRegressor\n",
    "import pyspark.ml.feature as ft\n",
    "import pyspark.sql.types as typ"
   ]
  },
  {
   "cell_type": "code",
   "execution_count": 3,
   "metadata": {},
   "outputs": [],
   "source": [
    "midata = spark.read.csv('./train.csv', header = 'true', inferSchema = 'true', sep = ','  ) "
   ]
  },
  {
   "cell_type": "markdown",
   "metadata": {},
   "source": [
    "Hacemos un cast de tipo Double a todas las variables que participan en nuestros modelos "
   ]
  },
  {
   "cell_type": "code",
   "execution_count": 5,
   "metadata": {},
   "outputs": [],
   "source": [
    "midata = midata.withColumn('YearBuilt', midata['YearBuilt'].cast(typ.DoubleType()))\n",
    "midata = midata.withColumn('SalePrice', midata['SalePrice'].cast(typ.DoubleType()))\n",
    "midata = midata.withColumn('TotalBsmtSF', midata['TotalBsmtSF'].cast(typ.DoubleType()))\n",
    "midata = midata.withColumn('OverallQual', midata['OverallQual'].cast(typ.DoubleType()))\n",
    "midata = midata.withColumn('1stFlrSF', midata['1stFlrSF'].cast(typ.DoubleType()))\n",
    "midata = midata.withColumn('GrLivArea', midata['GrLivArea'].cast(typ.DoubleType()))\n",
    "midata = midata.withColumn('GarageArea', midata['GarageArea'].cast(typ.DoubleType()))"
   ]
  },
  {
   "cell_type": "markdown",
   "metadata": {},
   "source": [
    "Imprimimos el esquema para verificar que se han modificado"
   ]
  },
  {
   "cell_type": "code",
   "execution_count": 8,
   "metadata": {},
   "outputs": [
    {
     "name": "stdout",
     "output_type": "stream",
     "text": [
      "root\n",
      " |-- Id: integer (nullable = true)\n",
      " |-- MSSubClass: integer (nullable = true)\n",
      " |-- MSZoning: string (nullable = true)\n",
      " |-- LotFrontage: string (nullable = true)\n",
      " |-- LotArea: integer (nullable = true)\n",
      " |-- Street: string (nullable = true)\n",
      " |-- Alley: string (nullable = true)\n",
      " |-- LotShape: string (nullable = true)\n",
      " |-- LandContour: string (nullable = true)\n",
      " |-- Utilities: string (nullable = true)\n",
      " |-- LotConfig: string (nullable = true)\n",
      " |-- LandSlope: string (nullable = true)\n",
      " |-- Neighborhood: string (nullable = true)\n",
      " |-- Condition1: string (nullable = true)\n",
      " |-- Condition2: string (nullable = true)\n",
      " |-- BldgType: string (nullable = true)\n",
      " |-- HouseStyle: string (nullable = true)\n",
      " |-- OverallQual: double (nullable = true)\n",
      " |-- OverallCond: integer (nullable = true)\n",
      " |-- YearBuilt: double (nullable = true)\n",
      " |-- YearRemodAdd: integer (nullable = true)\n",
      " |-- RoofStyle: string (nullable = true)\n",
      " |-- RoofMatl: string (nullable = true)\n",
      " |-- Exterior1st: string (nullable = true)\n",
      " |-- Exterior2nd: string (nullable = true)\n",
      " |-- MasVnrType: string (nullable = true)\n",
      " |-- MasVnrArea: string (nullable = true)\n",
      " |-- ExterQual: string (nullable = true)\n",
      " |-- ExterCond: string (nullable = true)\n",
      " |-- Foundation: string (nullable = true)\n",
      " |-- BsmtQual: string (nullable = true)\n",
      " |-- BsmtCond: string (nullable = true)\n",
      " |-- BsmtExposure: string (nullable = true)\n",
      " |-- BsmtFinType1: string (nullable = true)\n",
      " |-- BsmtFinSF1: integer (nullable = true)\n",
      " |-- BsmtFinType2: string (nullable = true)\n",
      " |-- BsmtFinSF2: integer (nullable = true)\n",
      " |-- BsmtUnfSF: integer (nullable = true)\n",
      " |-- TotalBsmtSF: double (nullable = true)\n",
      " |-- Heating: string (nullable = true)\n",
      " |-- HeatingQC: string (nullable = true)\n",
      " |-- CentralAir: string (nullable = true)\n",
      " |-- Electrical: string (nullable = true)\n",
      " |-- 1stFlrSF: double (nullable = true)\n",
      " |-- 2ndFlrSF: integer (nullable = true)\n",
      " |-- LowQualFinSF: integer (nullable = true)\n",
      " |-- GrLivArea: double (nullable = true)\n",
      " |-- BsmtFullBath: integer (nullable = true)\n",
      " |-- BsmtHalfBath: integer (nullable = true)\n",
      " |-- FullBath: integer (nullable = true)\n",
      " |-- HalfBath: integer (nullable = true)\n",
      " |-- BedroomAbvGr: integer (nullable = true)\n",
      " |-- KitchenAbvGr: integer (nullable = true)\n",
      " |-- KitchenQual: string (nullable = true)\n",
      " |-- TotRmsAbvGrd: integer (nullable = true)\n",
      " |-- Functional: string (nullable = true)\n",
      " |-- Fireplaces: integer (nullable = true)\n",
      " |-- FireplaceQu: string (nullable = true)\n",
      " |-- GarageType: string (nullable = true)\n",
      " |-- GarageYrBlt: string (nullable = true)\n",
      " |-- GarageFinish: string (nullable = true)\n",
      " |-- GarageCars: integer (nullable = true)\n",
      " |-- GarageArea: double (nullable = true)\n",
      " |-- GarageQual: string (nullable = true)\n",
      " |-- GarageCond: string (nullable = true)\n",
      " |-- PavedDrive: string (nullable = true)\n",
      " |-- WoodDeckSF: integer (nullable = true)\n",
      " |-- OpenPorchSF: integer (nullable = true)\n",
      " |-- EnclosedPorch: integer (nullable = true)\n",
      " |-- 3SsnPorch: integer (nullable = true)\n",
      " |-- ScreenPorch: integer (nullable = true)\n",
      " |-- PoolArea: integer (nullable = true)\n",
      " |-- PoolQC: string (nullable = true)\n",
      " |-- Fence: string (nullable = true)\n",
      " |-- MiscFeature: string (nullable = true)\n",
      " |-- MiscVal: integer (nullable = true)\n",
      " |-- MoSold: integer (nullable = true)\n",
      " |-- YrSold: integer (nullable = true)\n",
      " |-- SaleType: string (nullable = true)\n",
      " |-- SaleCondition: string (nullable = true)\n",
      " |-- SalePrice: double (nullable = true)\n",
      "\n"
     ]
    }
   ],
   "source": [
    "midata.printSchema()"
   ]
  },
  {
   "cell_type": "markdown",
   "metadata": {},
   "source": [
    "Creamos nuestro VectorAssembler"
   ]
  },
  {
   "cell_type": "code",
   "execution_count": 6,
   "metadata": {},
   "outputs": [],
   "source": [
    "featuresCreator =VectorAssembler( inputCols=[\"YearBuilt\",\"TotalBsmtSF\",\"OverallQual\",\"GrLivArea\",\"GarageArea\"],outputCol='Independent Feature')"
   ]
  },
  {
   "cell_type": "markdown",
   "metadata": {},
   "source": [
    "Segmentamos nuestros datos en:\n"
   ]
  },
  {
   "cell_type": "markdown",
   "metadata": {},
   "source": [
    "Datos de Entrenamiento (train_data)"
   ]
  },
  {
   "cell_type": "markdown",
   "metadata": {},
   "source": [
    "Datos de Test(test_data)"
   ]
  },
  {
   "cell_type": "code",
   "execution_count": 7,
   "metadata": {},
   "outputs": [],
   "source": [
    "train_data,test_data=midata.randomSplit([0.80,0.20])"
   ]
  },
  {
   "cell_type": "markdown",
   "metadata": {},
   "source": [
    "# Regresion Lineal"
   ]
  },
  {
   "cell_type": "markdown",
   "metadata": {},
   "source": [
    "Definimos la regresión y el Pipeline"
   ]
  },
  {
   "cell_type": "code",
   "execution_count": 9,
   "metadata": {},
   "outputs": [],
   "source": [
    "lr=LinearRegression(featuresCol='Independent Feature',labelCol='SalePrice')\n",
    "pipeline = Pipeline(stages=[featuresCreator, lr])"
   ]
  },
  {
   "cell_type": "markdown",
   "metadata": {},
   "source": [
    "Entrenamos el modelo "
   ]
  },
  {
   "cell_type": "code",
   "execution_count": 10,
   "metadata": {},
   "outputs": [],
   "source": [
    "model= pipeline.fit(train_data)"
   ]
  },
  {
   "cell_type": "code",
   "execution_count": 11,
   "metadata": {},
   "outputs": [],
   "source": [
    "predictions = model.transform(train_data)"
   ]
  },
  {
   "cell_type": "markdown",
   "metadata": {},
   "source": [
    "Imprimimos 20 registros para ver a groso modo que tal predice nuestro modelo de Regresion Lineal"
   ]
  },
  {
   "cell_type": "code",
   "execution_count": 13,
   "metadata": {},
   "outputs": [
    {
     "name": "stdout",
     "output_type": "stream",
     "text": [
      "+------------------+---------+--------------------+\n",
      "|        prediction|SalePrice| Independent Feature|\n",
      "+------------------+---------+--------------------+\n",
      "|215966.47595157358| 208500.0|[2003.0,856.0,7.0...|\n",
      "|173159.57601753506| 181500.0|[1976.0,1262.0,6....|\n",
      "|188397.63243425684| 140000.0|[1915.0,756.0,7.0...|\n",
      "|  285273.112799451| 250000.0|[2000.0,1145.0,8....|\n",
      "|149611.84742121398| 143000.0|[1993.0,796.0,5.0...|\n",
      "|233514.97009010415| 200000.0|[1973.0,1107.0,7....|\n",
      "| 195710.9752345021| 129900.0|[1931.0,952.0,7.0...|\n",
      "| 110018.6764793304| 118000.0|[1939.0,991.0,5.0...|\n",
      "|126523.87753056223| 129500.0|[1965.0,1040.0,5....|\n",
      "| 309501.8673355401| 345000.0|[2005.0,1175.0,9....|\n",
      "|112283.72681041318| 144000.0|[1962.0,912.0,5.0...|\n",
      "|   241095.43721199| 279500.0|[2006.0,1494.0,7....|\n",
      "| 162066.0224274327| 157000.0|[1960.0,1253.0,6....|\n",
      "|148409.71962531027| 149000.0|[1970.0,1004.0,6....|\n",
      "| 155030.6149807959| 159000.0|[2004.0,1114.0,5....|\n",
      "|136494.28310837864| 139000.0|[1958.0,1029.0,5....|\n",
      "| 298191.9176680817| 325300.0|[2005.0,1158.0,8....|\n",
      "| 137888.5170935553| 139400.0|[1930.0,637.0,7.0...|\n",
      "| 271646.1257945489| 230000.0|[2002.0,1777.0,8....|\n",
      "| 140009.2712577288| 129900.0|[1976.0,1040.0,5....|\n",
      "+------------------+---------+--------------------+\n",
      "only showing top 20 rows\n",
      "\n"
     ]
    }
   ],
   "source": [
    "predictions.select(\"prediction\", \"SalePrice\", \"Independent Feature\").show()"
   ]
  },
  {
   "cell_type": "markdown",
   "metadata": {},
   "source": [
    "### Evaluacion del modelo de Regresión Lineal"
   ]
  },
  {
   "cell_type": "markdown",
   "metadata": {},
   "source": [
    "Creamos un evaluador "
   ]
  },
  {
   "cell_type": "code",
   "execution_count": 16,
   "metadata": {},
   "outputs": [],
   "source": [
    "evaluator = RegressionEvaluator(labelCol='SalePrice', predictionCol='prediction', metricName='rmse')"
   ]
  },
  {
   "cell_type": "markdown",
   "metadata": {},
   "source": [
    "Error cuadratico medio mide el promedio de los errores al cuadrado, es decir, la diferencia entre el estimador y lo que se estima"
   ]
  },
  {
   "cell_type": "code",
   "execution_count": 17,
   "metadata": {},
   "outputs": [
    {
     "name": "stdout",
     "output_type": "stream",
     "text": [
      "MSE: 35619.683\n"
     ]
    }
   ],
   "source": [
    "mse = evaluator.evaluate(predictions, {evaluator.metricName: \"rmse\"})\n",
    "print(\"MSE: %.3f\" % mse)"
   ]
  },
  {
   "cell_type": "markdown",
   "metadata": {},
   "source": [
    "El coeficiente de determinacion determina la calidad del modelo para Predecir los resultados"
   ]
  },
  {
   "cell_type": "code",
   "execution_count": 18,
   "metadata": {},
   "outputs": [
    {
     "name": "stdout",
     "output_type": "stream",
     "text": [
      "r2: 0.801\n"
     ]
    }
   ],
   "source": [
    "r2 = evaluator.evaluate(predictions, {evaluator.metricName: \"r2\"})\n",
    "print(\"r2: %.3f\" %r2)"
   ]
  },
  {
   "cell_type": "markdown",
   "metadata": {},
   "source": [
    "# Random forest regression"
   ]
  },
  {
   "cell_type": "markdown",
   "metadata": {},
   "source": [
    "Definimos la Regresión y el Pipeline"
   ]
  },
  {
   "cell_type": "code",
   "execution_count": 20,
   "metadata": {},
   "outputs": [],
   "source": [
    "rf =RandomForestRegressor( labelCol='SalePrice' ,featuresCol='Independent Feature' )\n",
    "pipeline = Pipeline(stages=[ featuresCreator, rf])"
   ]
  },
  {
   "cell_type": "markdown",
   "metadata": {},
   "source": [
    "Entrenamos el modelo"
   ]
  },
  {
   "cell_type": "code",
   "execution_count": 21,
   "metadata": {},
   "outputs": [],
   "source": [
    "model = pipeline.fit(train_data)"
   ]
  },
  {
   "cell_type": "code",
   "execution_count": 22,
   "metadata": {},
   "outputs": [],
   "source": [
    "predictions = model.transform(train_data)"
   ]
  },
  {
   "cell_type": "markdown",
   "metadata": {},
   "source": [
    "Imprimimos 20 registros para ver a groso modo que tal predice nuestro modelo Random forest regression"
   ]
  },
  {
   "cell_type": "code",
   "execution_count": 23,
   "metadata": {},
   "outputs": [
    {
     "name": "stdout",
     "output_type": "stream",
     "text": [
      "+------------------+---------+--------------------+\n",
      "|        prediction|SalePrice| Independent Feature|\n",
      "+------------------+---------+--------------------+\n",
      "|197925.84479320102| 208500.0|[2003.0,856.0,7.0...|\n",
      "|163182.77548659412| 181500.0|[1976.0,1262.0,6....|\n",
      "|183770.06301375924| 140000.0|[1915.0,756.0,7.0...|\n",
      "|291866.98435544164| 250000.0|[2000.0,1145.0,8....|\n",
      "|153092.87743477902| 143000.0|[1993.0,796.0,5.0...|\n",
      "|238748.12680677354| 200000.0|[1973.0,1107.0,7....|\n",
      "|180870.07485605968| 129900.0|[1931.0,952.0,7.0...|\n",
      "| 112911.2031843644| 118000.0|[1939.0,991.0,5.0...|\n",
      "|136493.24753653049| 129500.0|[1965.0,1040.0,5....|\n",
      "|350605.81098875205| 345000.0|[2005.0,1175.0,9....|\n",
      "|123718.22972682901| 144000.0|[1962.0,912.0,5.0...|\n",
      "|226842.98303099448| 279500.0|[2006.0,1494.0,7....|\n",
      "|151235.09979215468| 157000.0|[1960.0,1253.0,6....|\n",
      "|140930.27592878713| 149000.0|[1970.0,1004.0,6....|\n",
      "|150318.53552206984| 159000.0|[2004.0,1114.0,5....|\n",
      "|137013.72617657878| 139000.0|[1958.0,1029.0,5....|\n",
      "| 296624.9429080732| 325300.0|[2005.0,1158.0,8....|\n",
      "| 139249.6687254709| 139400.0|[1930.0,637.0,7.0...|\n",
      "| 269872.9610804859| 230000.0|[2002.0,1777.0,8....|\n",
      "| 142510.6818947158| 129900.0|[1976.0,1040.0,5....|\n",
      "+------------------+---------+--------------------+\n",
      "only showing top 20 rows\n",
      "\n"
     ]
    }
   ],
   "source": [
    "predictions.select(\"prediction\", \"SalePrice\", \"Independent Feature\").show()"
   ]
  },
  {
   "cell_type": "markdown",
   "metadata": {},
   "source": [
    "### Evaluación del modelo Random forest regression"
   ]
  },
  {
   "cell_type": "markdown",
   "metadata": {},
   "source": [
    "Creamos un evaluador "
   ]
  },
  {
   "cell_type": "code",
   "execution_count": 25,
   "metadata": {},
   "outputs": [],
   "source": [
    "evaluator = RegressionEvaluator(labelCol='SalePrice', predictionCol ='prediction',metricName = 'rmse')"
   ]
  },
  {
   "cell_type": "markdown",
   "metadata": {},
   "source": [
    "Error cuadratico medio mide el promedio de los errores al cuadrado, es decir, la diferencia entre el estimador y lo que se estima"
   ]
  },
  {
   "cell_type": "code",
   "execution_count": 26,
   "metadata": {},
   "outputs": [
    {
     "name": "stdout",
     "output_type": "stream",
     "text": [
      "MSE: 28265.661\n"
     ]
    }
   ],
   "source": [
    "rmse = evaluator.evaluate(predictions, {evaluator.metricName: \"rmse\"})\n",
    "print(\"MSE: %.3f\" % rmse)"
   ]
  },
  {
   "cell_type": "markdown",
   "metadata": {},
   "source": [
    "El coeficiente de determinacion determina la calidad del modelo para Predecir los resultados"
   ]
  },
  {
   "cell_type": "code",
   "execution_count": 27,
   "metadata": {},
   "outputs": [
    {
     "name": "stdout",
     "output_type": "stream",
     "text": [
      "r2: 0.874\n"
     ]
    }
   ],
   "source": [
    "r2 = evaluator.evaluate(predictions, {evaluator.metricName: \"r2\"})\n",
    "print(\"r2: %.3f\" %r2)"
   ]
  },
  {
   "cell_type": "markdown",
   "metadata": {},
   "source": [
    "# Gradient-boosted tree regression"
   ]
  },
  {
   "cell_type": "markdown",
   "metadata": {},
   "source": [
    "Definimos la Regresión y el Pipeline"
   ]
  },
  {
   "cell_type": "code",
   "execution_count": 30,
   "metadata": {},
   "outputs": [],
   "source": [
    "gtb =GBTRegressor(labelCol='SalePrice' ,featuresCol='Independent Feature', maxIter=10 )\n",
    "pipeline = Pipeline(stages=[ featuresCreator, gtb])"
   ]
  },
  {
   "cell_type": "markdown",
   "metadata": {},
   "source": [
    "Entrenamos el modelo"
   ]
  },
  {
   "cell_type": "code",
   "execution_count": 31,
   "metadata": {},
   "outputs": [],
   "source": [
    "model = pipeline.fit(train_data)"
   ]
  },
  {
   "cell_type": "code",
   "execution_count": 32,
   "metadata": {},
   "outputs": [],
   "source": [
    "predictions = model.transform(train_data)"
   ]
  },
  {
   "cell_type": "markdown",
   "metadata": {},
   "source": [
    "Imprimimos 20 registros para ver a groso modo que tal predice nuestro modelo Gradient-boosted tree regression"
   ]
  },
  {
   "cell_type": "code",
   "execution_count": 33,
   "metadata": {},
   "outputs": [
    {
     "name": "stdout",
     "output_type": "stream",
     "text": [
      "+------------------+---------+--------------------+\n",
      "|        prediction|SalePrice| Independent Feature|\n",
      "+------------------+---------+--------------------+\n",
      "|191121.37933728617| 208500.0|[2003.0,856.0,7.0...|\n",
      "| 151028.1017779977| 181500.0|[1976.0,1262.0,6....|\n",
      "|162271.24298279572| 140000.0|[1915.0,756.0,7.0...|\n",
      "|252018.94903705892| 250000.0|[2000.0,1145.0,8....|\n",
      "|124483.02619023167| 143000.0|[1993.0,796.0,5.0...|\n",
      "|  247671.546546049| 200000.0|[1973.0,1107.0,7....|\n",
      "| 192498.9442369221| 129900.0|[1931.0,952.0,7.0...|\n",
      "|119599.84932594633| 118000.0|[1939.0,991.0,5.0...|\n",
      "|140385.67124519713| 129500.0|[1965.0,1040.0,5....|\n",
      "| 351907.6052957199| 345000.0|[2005.0,1175.0,9....|\n",
      "| 120222.0612741567| 144000.0|[1962.0,912.0,5.0...|\n",
      "|240107.93045138358| 279500.0|[2006.0,1494.0,7....|\n",
      "|142828.99204912895| 157000.0|[1960.0,1253.0,6....|\n",
      "|128518.04031070876| 149000.0|[1970.0,1004.0,6....|\n",
      "|151471.20596420614| 159000.0|[2004.0,1114.0,5....|\n",
      "| 149904.0141429186| 139000.0|[1958.0,1029.0,5....|\n",
      "|312673.35746396676| 325300.0|[2005.0,1158.0,8....|\n",
      "|149164.88217604853| 139400.0|[1930.0,637.0,7.0...|\n",
      "| 276762.4126549382| 230000.0|[2002.0,1777.0,8....|\n",
      "| 146751.5764249071| 129900.0|[1976.0,1040.0,5....|\n",
      "+------------------+---------+--------------------+\n",
      "only showing top 20 rows\n",
      "\n"
     ]
    }
   ],
   "source": [
    "predictions.select(\"prediction\", \"SalePrice\", \"Independent Feature\").show()"
   ]
  },
  {
   "cell_type": "markdown",
   "metadata": {},
   "source": [
    "### Evaluación del modelo Gradient-boosted tree regression"
   ]
  },
  {
   "cell_type": "markdown",
   "metadata": {},
   "source": [
    "Creamos un evaluador"
   ]
  },
  {
   "cell_type": "code",
   "execution_count": 34,
   "metadata": {},
   "outputs": [],
   "source": [
    "evaluator = RegressionEvaluator(labelCol='SalePrice', predictionCol='prediction',metricName = 'rmse')"
   ]
  },
  {
   "cell_type": "markdown",
   "metadata": {},
   "source": [
    "Error cuadratico medio mide el promedio de los errores al cuadrado, es decir, la diferencia entre el estimador y lo que se estima"
   ]
  },
  {
   "cell_type": "code",
   "execution_count": 35,
   "metadata": {},
   "outputs": [
    {
     "name": "stdout",
     "output_type": "stream",
     "text": [
      "MSE: 23666.659\n"
     ]
    }
   ],
   "source": [
    "rmse = evaluator.evaluate(predictions, {evaluator.metricName: \"rmse\"})\n",
    "print(\"MSE: %.3f\" % rmse)"
   ]
  },
  {
   "cell_type": "markdown",
   "metadata": {},
   "source": [
    "El coeficiente de determinacion determina la calidad del modelo para Predecir los resultados"
   ]
  },
  {
   "cell_type": "code",
   "execution_count": 36,
   "metadata": {},
   "outputs": [
    {
     "name": "stdout",
     "output_type": "stream",
     "text": [
      "r2: 0.912\n"
     ]
    }
   ],
   "source": [
    "r2 = evaluator.evaluate(predictions, {evaluator.metricName: \"r2\"})\n",
    "print(\"r2: %.3f\" %r2)"
   ]
  },
  {
   "cell_type": "markdown",
   "metadata": {},
   "source": [
    "En base a lo anterior decidimos que el modelo que mejor predice la variable SalePrice \" Precio de venta de la vivienda \" es el modelo Gradient-boosted tree regression. Por lo que a continuación vamos a proceder a optimizar sus parametros."
   ]
  },
  {
   "cell_type": "code",
   "execution_count": null,
   "metadata": {},
   "outputs": [],
   "source": []
  },
  {
   "cell_type": "code",
   "execution_count": null,
   "metadata": {},
   "outputs": [],
   "source": []
  },
  {
   "cell_type": "code",
   "execution_count": 37,
   "metadata": {},
   "outputs": [],
   "source": [
    "from pyspark.ml.tuning import CrossValidator, ParamGridBuilder "
   ]
  },
  {
   "cell_type": "code",
   "execution_count": null,
   "metadata": {},
   "outputs": [],
   "source": []
  }
 ],
 "metadata": {
  "kernelspec": {
   "display_name": "Python 3",
   "language": "python",
   "name": "python3"
  },
  "language_info": {
   "codemirror_mode": {
    "name": "ipython",
    "version": 3
   },
   "file_extension": ".py",
   "mimetype": "text/x-python",
   "name": "python",
   "nbconvert_exporter": "python",
   "pygments_lexer": "ipython3",
   "version": "3.7.3"
  }
 },
 "nbformat": 4,
 "nbformat_minor": 2
}
