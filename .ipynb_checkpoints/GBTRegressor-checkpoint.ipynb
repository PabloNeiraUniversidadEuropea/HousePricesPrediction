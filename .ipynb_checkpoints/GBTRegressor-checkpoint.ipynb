{
 "cells": [
  {
   "cell_type": "code",
   "execution_count": 73,
   "metadata": {},
   "outputs": [],
   "source": [
    "\n",
    "import pyspark\n",
    "\n",
    "from pyspark.sql.session import SparkSession\n",
    "spark = SparkSession.builder.appName(\"spark_airport\").getOrCreate()"
   ]
  },
  {
   "cell_type": "code",
   "execution_count": 74,
   "metadata": {},
   "outputs": [],
   "source": [
    "from pyspark.ml import Pipeline\n",
    "from pyspark.ml.evaluation import RegressionEvaluator\n",
    "from pyspark.ml.feature import VectorAssembler, VectorIndexer,HasHandleInvalid\n",
    "from pyspark.ml.regression import GBTRegressionModel, GBTRegressor\n",
    "\n",
    "from pyspark.ml.feature import VectorAssembler\n"
   ]
  },
  {
   "cell_type": "code",
   "execution_count": 75,
   "metadata": {},
   "outputs": [],
   "source": [
    "midata = spark.read.csv('./datasets/train.csv', header = 'true', inferSchema = 'true', sep = ','  )   "
   ]
  },
  {
   "cell_type": "code",
   "execution_count": 76,
   "metadata": {},
   "outputs": [
    {
     "name": "stdout",
     "output_type": "stream",
     "text": [
      "root\n",
      " |-- Id: integer (nullable = true)\n",
      " |-- MSSubClass: integer (nullable = true)\n",
      " |-- MSZoning: string (nullable = true)\n",
      " |-- LotFrontage: string (nullable = true)\n",
      " |-- LotArea: integer (nullable = true)\n",
      " |-- Street: string (nullable = true)\n",
      " |-- Alley: string (nullable = true)\n",
      " |-- LotShape: string (nullable = true)\n",
      " |-- LandContour: string (nullable = true)\n",
      " |-- Utilities: string (nullable = true)\n",
      " |-- LotConfig: string (nullable = true)\n",
      " |-- LandSlope: string (nullable = true)\n",
      " |-- Neighborhood: string (nullable = true)\n",
      " |-- Condition1: string (nullable = true)\n",
      " |-- Condition2: string (nullable = true)\n",
      " |-- BldgType: string (nullable = true)\n",
      " |-- HouseStyle: string (nullable = true)\n",
      " |-- OverallQual: integer (nullable = true)\n",
      " |-- OverallCond: integer (nullable = true)\n",
      " |-- YearBuilt: integer (nullable = true)\n",
      " |-- YearRemodAdd: integer (nullable = true)\n",
      " |-- RoofStyle: string (nullable = true)\n",
      " |-- RoofMatl: string (nullable = true)\n",
      " |-- Exterior1st: string (nullable = true)\n",
      " |-- Exterior2nd: string (nullable = true)\n",
      " |-- MasVnrType: string (nullable = true)\n",
      " |-- MasVnrArea: string (nullable = true)\n",
      " |-- ExterQual: string (nullable = true)\n",
      " |-- ExterCond: string (nullable = true)\n",
      " |-- Foundation: string (nullable = true)\n",
      " |-- BsmtQual: string (nullable = true)\n",
      " |-- BsmtCond: string (nullable = true)\n",
      " |-- BsmtExposure: string (nullable = true)\n",
      " |-- BsmtFinType1: string (nullable = true)\n",
      " |-- BsmtFinSF1: integer (nullable = true)\n",
      " |-- BsmtFinType2: string (nullable = true)\n",
      " |-- BsmtFinSF2: integer (nullable = true)\n",
      " |-- BsmtUnfSF: integer (nullable = true)\n",
      " |-- TotalBsmtSF: integer (nullable = true)\n",
      " |-- Heating: string (nullable = true)\n",
      " |-- HeatingQC: string (nullable = true)\n",
      " |-- CentralAir: string (nullable = true)\n",
      " |-- Electrical: string (nullable = true)\n",
      " |-- 1stFlrSF: integer (nullable = true)\n",
      " |-- 2ndFlrSF: integer (nullable = true)\n",
      " |-- LowQualFinSF: integer (nullable = true)\n",
      " |-- GrLivArea: integer (nullable = true)\n",
      " |-- BsmtFullBath: integer (nullable = true)\n",
      " |-- BsmtHalfBath: integer (nullable = true)\n",
      " |-- FullBath: integer (nullable = true)\n",
      " |-- HalfBath: integer (nullable = true)\n",
      " |-- BedroomAbvGr: integer (nullable = true)\n",
      " |-- KitchenAbvGr: integer (nullable = true)\n",
      " |-- KitchenQual: string (nullable = true)\n",
      " |-- TotRmsAbvGrd: integer (nullable = true)\n",
      " |-- Functional: string (nullable = true)\n",
      " |-- Fireplaces: integer (nullable = true)\n",
      " |-- FireplaceQu: string (nullable = true)\n",
      " |-- GarageType: string (nullable = true)\n",
      " |-- GarageYrBlt: string (nullable = true)\n",
      " |-- GarageFinish: string (nullable = true)\n",
      " |-- GarageCars: integer (nullable = true)\n",
      " |-- GarageArea: integer (nullable = true)\n",
      " |-- GarageQual: string (nullable = true)\n",
      " |-- GarageCond: string (nullable = true)\n",
      " |-- PavedDrive: string (nullable = true)\n",
      " |-- WoodDeckSF: integer (nullable = true)\n",
      " |-- OpenPorchSF: integer (nullable = true)\n",
      " |-- EnclosedPorch: integer (nullable = true)\n",
      " |-- 3SsnPorch: integer (nullable = true)\n",
      " |-- ScreenPorch: integer (nullable = true)\n",
      " |-- PoolArea: integer (nullable = true)\n",
      " |-- PoolQC: string (nullable = true)\n",
      " |-- Fence: string (nullable = true)\n",
      " |-- MiscFeature: string (nullable = true)\n",
      " |-- MiscVal: integer (nullable = true)\n",
      " |-- MoSold: integer (nullable = true)\n",
      " |-- YrSold: integer (nullable = true)\n",
      " |-- SaleType: string (nullable = true)\n",
      " |-- SaleCondition: string (nullable = true)\n",
      " |-- SalePrice: integer (nullable = true)\n",
      "\n"
     ]
    }
   ],
   "source": [
    "midata.printSchema()"
   ]
  },
  {
   "cell_type": "markdown",
   "metadata": {},
   "source": [
    "Hacemos un cast de nuestras variables a Double"
   ]
  },
  {
   "cell_type": "code",
   "execution_count": 77,
   "metadata": {},
   "outputs": [],
   "source": [
    "import pyspark.ml.feature as ft\n",
    "import pyspark.sql.types as typ\n",
    "midata = midata.withColumn('YearBuilt', midata['YearBuilt'].cast(typ.DoubleType()))\n",
    "midata = midata.withColumn('SalePrice', midata['SalePrice'].cast(typ.DoubleType()))\n",
    "midata = midata.withColumn('TotalBsmtSF', midata['TotalBsmtSF'].cast(typ.DoubleType()))\n",
    "midata = midata.withColumn('OverallQual', midata['OverallQual'].cast(typ.DoubleType()))\n",
    "midata = midata.withColumn('1stFlrSF', midata['1stFlrSF'].cast(typ.DoubleType()))\n",
    "midata = midata.withColumn('GrLivArea', midata['GrLivArea'].cast(typ.DoubleType()))\n",
    "midata = midata.withColumn('GarageArea', midata['GarageArea'].cast(typ.DoubleType()))"
   ]
  },
  {
   "cell_type": "code",
   "execution_count": 78,
   "metadata": {},
   "outputs": [],
   "source": [
    "from pyspark.ml.feature import VectorAssembler, VectorIndexer  "
   ]
  },
  {
   "cell_type": "code",
   "execution_count": 170,
   "metadata": {},
   "outputs": [],
   "source": [
    "featuresCreator = VectorAssembler(inputCols=['TotalBsmtSF','PoolArea',\n",
    "                'MSSubClass','LotArea','OverallQual','OverallCond',\n",
    "                'YearBuilt','YearRemodAdd',\n",
    "                'BsmtFinSF1','BsmtFinSF2', 'BsmtUnfSF','YrSold','1stFlrSF', '2ndFlrSF', 'LowQualFinSF','GrLivArea',\n",
    "                'BsmtFullBath','BsmtHalfBath','FullBath', 'HalfBath', 'BedroomAbvGr', 'KitchenAbvGr', 'TotRmsAbvGrd',\n",
    "                'Fireplaces','GarageCars','GarageArea','WoodDeckSF','OpenPorchSF','EnclosedPorch','3SsnPorch',\n",
    "                'ScreenPorch','PoolArea','MiscVal','MoSold', ],outputCol='features')"
   ]
  },
  {
   "cell_type": "code",
   "execution_count": 171,
   "metadata": {},
   "outputs": [],
   "source": [
    "#Variables guays: \"YearBuilt\",\"TotalBsmtSF\",\"OverallQual\",\"1stFlrSF\",\"GrLivArea\",\"GarageArea\""
   ]
  },
  {
   "cell_type": "code",
   "execution_count": 172,
   "metadata": {},
   "outputs": [
    {
     "data": {
      "text/plain": [
       "<bound method DataFrame.show of DataFrame[Id: int, MSSubClass: int, MSZoning: string, LotFrontage: string, LotArea: int, Street: string, Alley: string, LotShape: string, LandContour: string, Utilities: string, LotConfig: string, LandSlope: string, Neighborhood: string, Condition1: string, Condition2: string, BldgType: string, HouseStyle: string, OverallQual: double, OverallCond: int, YearBuilt: double, YearRemodAdd: int, RoofStyle: string, RoofMatl: string, Exterior1st: string, Exterior2nd: string, MasVnrType: string, MasVnrArea: string, ExterQual: string, ExterCond: string, Foundation: string, BsmtQual: string, BsmtCond: string, BsmtExposure: string, BsmtFinType1: string, BsmtFinSF1: int, BsmtFinType2: string, BsmtFinSF2: int, BsmtUnfSF: int, TotalBsmtSF: double, Heating: string, HeatingQC: string, CentralAir: string, Electrical: string, 1stFlrSF: double, 2ndFlrSF: int, LowQualFinSF: int, GrLivArea: double, BsmtFullBath: int, BsmtHalfBath: int, FullBath: int, HalfBath: int, BedroomAbvGr: int, KitchenAbvGr: int, KitchenQual: string, TotRmsAbvGrd: int, Functional: string, Fireplaces: int, FireplaceQu: string, GarageType: string, GarageYrBlt: string, GarageFinish: string, GarageCars: int, GarageArea: double, GarageQual: string, GarageCond: string, PavedDrive: string, WoodDeckSF: int, OpenPorchSF: int, EnclosedPorch: int, 3SsnPorch: int, ScreenPorch: int, PoolArea: int, PoolQC: string, Fence: string, MiscFeature: string, MiscVal: int, MoSold: int, YrSold: int, SaleType: string, SaleCondition: string, SalePrice: double, features: vector]>"
      ]
     },
     "execution_count": 172,
     "metadata": {},
     "output_type": "execute_result"
    }
   ],
   "source": [
    "featuresCreator.setHandleInvalid(\"keep\").transform(midata).show"
   ]
  },
  {
   "cell_type": "code",
   "execution_count": 173,
   "metadata": {},
   "outputs": [],
   "source": [
    "train_data,test_data=midata.randomSplit([0.80,0.20])"
   ]
  },
  {
   "cell_type": "code",
   "execution_count": 174,
   "metadata": {
    "scrolled": false
   },
   "outputs": [],
   "source": [
    "gtb =GBTRegressor(labelCol='SalePrice' ,featuresCol='features', maxIter=100  )"
   ]
  },
  {
   "cell_type": "code",
   "execution_count": 175,
   "metadata": {},
   "outputs": [],
   "source": [
    "pipeline = Pipeline(stages=[featuresCreator, gtb])"
   ]
  },
  {
   "cell_type": "code",
   "execution_count": 176,
   "metadata": {},
   "outputs": [],
   "source": [
    "model = pipeline.fit(train_data)"
   ]
  },
  {
   "cell_type": "code",
   "execution_count": 177,
   "metadata": {},
   "outputs": [],
   "source": [
    "predictions = model.transform(train_data)"
   ]
  },
  {
   "cell_type": "code",
   "execution_count": 178,
   "metadata": {},
   "outputs": [
    {
     "name": "stdout",
     "output_type": "stream",
     "text": [
      "+------------------+---------+--------------------+\n",
      "|        prediction|SalePrice|            features|\n",
      "+------------------+---------+--------------------+\n",
      "|206265.86700477925| 208500.0|[856.0,0.0,60.0,8...|\n",
      "| 180646.7631069654| 181500.0|[1262.0,0.0,20.0,...|\n",
      "|212033.33880225284| 223500.0|[920.0,0.0,60.0,1...|\n",
      "| 143169.6361796585| 140000.0|[756.0,0.0,70.0,9...|\n",
      "|143963.95522178934| 143000.0|[796.0,0.0,50.0,1...|\n",
      "| 299886.4911716766| 307000.0|[1686.0,0.0,20.0,...|\n",
      "|207153.03313951037| 200000.0|[1107.0,0.0,60.0,...|\n",
      "|134416.82757872323| 129900.0|[952.0,0.0,50.0,6...|\n",
      "| 120358.9633280359| 118000.0|[991.0,0.0,190.0,...|\n",
      "|344732.28450423875| 345000.0|[1175.0,0.0,60.0,...|\n",
      "|139586.95799702543| 144000.0|[912.0,0.0,20.0,1...|\n",
      "| 263737.5361947459| 279500.0|(34,[0,2,3,4,5,6,...|\n",
      "| 154099.4593960667| 157000.0|[1253.0,0.0,20.0,...|\n",
      "|146161.84363034333| 149000.0|[1004.0,0.0,20.0,...|\n",
      "|  94566.8029954398|  90000.0|(34,[2,3,4,5,6,7,...|\n",
      "|164343.38896668865| 159000.0|[1114.0,0.0,20.0,...|\n",
      "|134971.79935554415| 139000.0|(34,[0,2,3,4,5,6,...|\n",
      "| 325424.6110815337| 325300.0|[1158.0,0.0,60.0,...|\n",
      "|138886.75539324587| 139400.0|(34,[0,2,3,4,5,6,...|\n",
      "| 232253.1698544703| 230000.0|(34,[0,2,3,4,5,6,...|\n",
      "+------------------+---------+--------------------+\n",
      "only showing top 20 rows\n",
      "\n"
     ]
    }
   ],
   "source": [
    "predictions.select(\"prediction\", \"SalePrice\", \"features\").show()"
   ]
  },
  {
   "cell_type": "code",
   "execution_count": 179,
   "metadata": {},
   "outputs": [],
   "source": [
    "evaluator = RegressionEvaluator(labelCol='SalePrice', predictionCol='prediction',metricName = 'rmse')"
   ]
  },
  {
   "cell_type": "markdown",
   "metadata": {},
   "source": [
    "Error cuadratico medio mide el promedio de los errores al cuadrado, es decir, la diferencia entre el estimador y lo que se estima"
   ]
  },
  {
   "cell_type": "code",
   "execution_count": 180,
   "metadata": {},
   "outputs": [
    {
     "name": "stdout",
     "output_type": "stream",
     "text": [
      "MSE: 5107.841\n"
     ]
    }
   ],
   "source": [
    "rmse = evaluator.evaluate(predictions, {evaluator.metricName: \"rmse\"})\n",
    "print(\"MSE: %.3f\" % rmse)"
   ]
  },
  {
   "cell_type": "markdown",
   "metadata": {},
   "source": [
    "El coeficiente de determinacion determina la calidad del modelo para Predecir los resultados"
   ]
  },
  {
   "cell_type": "code",
   "execution_count": 181,
   "metadata": {},
   "outputs": [
    {
     "name": "stdout",
     "output_type": "stream",
     "text": [
      "r2: 0.996\n"
     ]
    }
   ],
   "source": [
    "r2 = evaluator.evaluate(predictions, {evaluator.metricName: \"r2\"})\n",
    "print(\"r2: %.3f\" %r2)"
   ]
  },
  {
   "cell_type": "code",
   "execution_count": 148,
   "metadata": {},
   "outputs": [],
   "source": [
    "import pyspark.ml.regression as rg\n",
    "from pyspark.ml.regression import GBTRegressor\n",
    "import pyspark.ml.tuning as tune"
   ]
  },
  {
   "cell_type": "code",
   "execution_count": 149,
   "metadata": {},
   "outputs": [],
   "source": [
    "boot = rg.GBTRegressor(labelCol = 'SalePrice')\n",
    "grid = tune.ParamGridBuilder().addGrid(boot.maxDepth, [2, 4, 6]).addGrid(boot.maxBins, [20, 60]).addGrid(boot.maxIter, [2,5]).build()"
   ]
  },
  {
   "cell_type": "code",
   "execution_count": 150,
   "metadata": {},
   "outputs": [],
   "source": [
    "evaluatorG = RegressionEvaluator(predictionCol = 'prediction', labelCol = 'SalePrice')"
   ]
  },
  {
   "cell_type": "markdown",
   "metadata": {},
   "source": [
    "CROSS VALIDATION"
   ]
  },
  {
   "cell_type": "code",
   "execution_count": 151,
   "metadata": {},
   "outputs": [],
   "source": [
    "gbt1 = tune.CrossValidator(estimator = boot, estimatorParamMaps = grid, evaluator = evaluatorG)"
   ]
  },
  {
   "cell_type": "code",
   "execution_count": 152,
   "metadata": {},
   "outputs": [],
   "source": [
    "pipeline = Pipeline(stages=[featuresCreator])\n",
    "data_transformer = pipeline.fit(train_data)"
   ]
  },
  {
   "cell_type": "code",
   "execution_count": 153,
   "metadata": {},
   "outputs": [],
   "source": [
    "rgModel = gbt1.fit(data_transformer.transform(train_data))"
   ]
  },
  {
   "cell_type": "code",
   "execution_count": 154,
   "metadata": {},
   "outputs": [
    {
     "name": "stdout",
     "output_type": "stream",
     "text": [
      "37191.800789585985\n",
      "37191.800789585985\n"
     ]
    }
   ],
   "source": [
    "data_train = data_transformer.transform(test_data)\n",
    "results = rgModel.transform(data_train)\n",
    "\n",
    "print(evaluator.evaluate(results, {evaluatorG.metricName: 'areaUnderROC'}))\n",
    "print(evaluator.evaluate(results, {evaluatorG.metricName: 'areaUnderPR'}))"
   ]
  },
  {
   "cell_type": "code",
   "execution_count": 155,
   "metadata": {},
   "outputs": [
    {
     "name": "stdout",
     "output_type": "stream",
     "text": [
      "1.0\n",
      "1.0\n"
     ]
    }
   ],
   "source": [
    "import pyspark.ml.evaluation as ev\n",
    "\n",
    "cosarara = ev.BinaryClassificationEvaluator(\n",
    "    rawPredictionCol='prediction', \n",
    "    labelCol='SalePrice')\n",
    "\n",
    "print(cosarara.evaluate(predictions, \n",
    "     {cosarara.metricName: 'areaUnderROC'}))\n",
    "print(cosarara.evaluate(predictions, {evaluator.metricName: 'areaUnderPR'}))"
   ]
  },
  {
   "cell_type": "code",
   "execution_count": 156,
   "metadata": {},
   "outputs": [
    {
     "data": {
      "text/plain": [
       "([{'maxDepth': 6}, {'maxBins': 60}, {'maxIter': 2}], 50609.47310526243)"
      ]
     },
     "execution_count": 156,
     "metadata": {},
     "output_type": "execute_result"
    }
   ],
   "source": [
    "results = [\n",
    "    (\n",
    "        [\n",
    "            {key.name: paramValue} \n",
    "            for key, paramValue \n",
    "            in zip(\n",
    "                params.keys(), \n",
    "                params.values())\n",
    "        ], metric\n",
    "    ) \n",
    "    for params, metric \n",
    "    in zip(\n",
    "        rgModel.getEstimatorParamMaps(), \n",
    "        rgModel.avgMetrics\n",
    "    )\n",
    "]\n",
    "\n",
    "sorted(results, key=lambda el: el[1], reverse=True)[0]"
   ]
  },
  {
   "cell_type": "markdown",
   "metadata": {},
   "source": [
    "EXTRACCIÓN DE CARACTERÍSTICAS - PCA"
   ]
  },
  {
   "cell_type": "code",
   "execution_count": 91,
   "metadata": {},
   "outputs": [],
   "source": [
    "from pyspark.ml.feature import PCA\n",
    "from pyspark.ml.feature import ChiSqSelector"
   ]
  },
  {
   "cell_type": "code",
   "execution_count": 124,
   "metadata": {},
   "outputs": [],
   "source": [
    "featuresCreatorPCA = ft.VectorAssembler(inputCols=['TotalBsmtSF','PoolArea',\n",
    "                'MSSubClass','LotArea','OverallQual','OverallCond',\n",
    "                'YearBuilt','YearRemodAdd',\n",
    "                'BsmtFinSF1','BsmtFinSF2', 'BsmtUnfSF','YrSold','1stFlrSF', '2ndFlrSF', 'LowQualFinSF','GrLivArea',\n",
    "                'BsmtFullBath','BsmtHalfBath','FullBath', 'HalfBath', 'BedroomAbvGr', 'KitchenAbvGr', 'TotRmsAbvGrd',\n",
    "                'Fireplaces','GarageCars','GarageArea','WoodDeckSF','OpenPorchSF','EnclosedPorch','3SsnPorch',\n",
    "                'ScreenPorch','PoolArea','MiscVal','MoSold', ],outputCol='features')"
   ]
  },
  {
   "cell_type": "code",
   "execution_count": 125,
   "metadata": {},
   "outputs": [],
   "source": [
    "micasa = rg.GBTRegressor(maxDepth = 4, maxBins = 20, maxIter = 80, labelCol = 'SalePrice', featuresCol = 'features')"
   ]
  },
  {
   "cell_type": "code",
   "execution_count": 126,
   "metadata": {},
   "outputs": [],
   "source": [
    "mipipeline = Pipeline(stages = [featuresCreatorPCA, micasa])"
   ]
  },
  {
   "cell_type": "code",
   "execution_count": 127,
   "metadata": {},
   "outputs": [],
   "source": [
    "(train_data, test_data) = midata.randomSplit([0.80,0.20], seed = 666)"
   ]
  },
  {
   "cell_type": "code",
   "execution_count": 128,
   "metadata": {},
   "outputs": [
    {
     "name": "stdout",
     "output_type": "stream",
     "text": [
      "+---+----------+--------+-----------+-------+------+-----+--------+-----------+---------+---------+---------+------------+----------+----------+--------+----------+-----------+-----------+---------+------------+---------+--------+-----------+-----------+----------+----------+---------+---------+----------+--------+--------+------------+------------+----------+------------+----------+---------+-----------+-------+---------+----------+----------+--------+--------+------------+---------+------------+------------+--------+--------+------------+------------+-----------+------------+----------+----------+-----------+----------+-----------+------------+----------+----------+----------+----------+----------+----------+-----------+-------------+---------+-----------+--------+------+-----+-----------+-------+------+------+--------+-------------+---------+--------------------+------------------+\n",
      "| Id|MSSubClass|MSZoning|LotFrontage|LotArea|Street|Alley|LotShape|LandContour|Utilities|LotConfig|LandSlope|Neighborhood|Condition1|Condition2|BldgType|HouseStyle|OverallQual|OverallCond|YearBuilt|YearRemodAdd|RoofStyle|RoofMatl|Exterior1st|Exterior2nd|MasVnrType|MasVnrArea|ExterQual|ExterCond|Foundation|BsmtQual|BsmtCond|BsmtExposure|BsmtFinType1|BsmtFinSF1|BsmtFinType2|BsmtFinSF2|BsmtUnfSF|TotalBsmtSF|Heating|HeatingQC|CentralAir|Electrical|1stFlrSF|2ndFlrSF|LowQualFinSF|GrLivArea|BsmtFullBath|BsmtHalfBath|FullBath|HalfBath|BedroomAbvGr|KitchenAbvGr|KitchenQual|TotRmsAbvGrd|Functional|Fireplaces|FireplaceQu|GarageType|GarageYrBlt|GarageFinish|GarageCars|GarageArea|GarageQual|GarageCond|PavedDrive|WoodDeckSF|OpenPorchSF|EnclosedPorch|3SsnPorch|ScreenPorch|PoolArea|PoolQC|Fence|MiscFeature|MiscVal|MoSold|YrSold|SaleType|SaleCondition|SalePrice|            features|        prediction|\n",
      "+---+----------+--------+-----------+-------+------+-----+--------+-----------+---------+---------+---------+------------+----------+----------+--------+----------+-----------+-----------+---------+------------+---------+--------+-----------+-----------+----------+----------+---------+---------+----------+--------+--------+------------+------------+----------+------------+----------+---------+-----------+-------+---------+----------+----------+--------+--------+------------+---------+------------+------------+--------+--------+------------+------------+-----------+------------+----------+----------+-----------+----------+-----------+------------+----------+----------+----------+----------+----------+----------+-----------+-------------+---------+-----------+--------+------+-----+-----------+-------+------+------+--------+-------------+---------+--------------------+------------------+\n",
      "|  6|        50|      RL|         85|  14115|  Pave|   NA|     IR1|        Lvl|   AllPub|   Inside|      Gtl|     Mitchel|      Norm|      Norm|    1Fam|    1.5Fin|        5.0|          5|   1993.0|        1995|    Gable| CompShg|    VinylSd|    VinylSd|      None|         0|       TA|       TA|      Wood|      Gd|      TA|          No|         GLQ|       732|         Unf|         0|       64|      796.0|   GasA|       Ex|         Y|     SBrkr|   796.0|     566|           0|   1362.0|           1|           0|       1|       1|           1|           1|         TA|           5|       Typ|         0|         NA|    Attchd|       1993|         Unf|         2|     480.0|        TA|        TA|         Y|        40|         30|            0|      320|          0|       0|    NA|MnPrv|       Shed|    700|    10|  2009|      WD|       Normal| 143000.0|[796.0,0.0,50.0,1...|151008.09305224236|\n",
      "| 18|        90|      RL|         72|  10791|  Pave|   NA|     Reg|        Lvl|   AllPub|   Inside|      Gtl|      Sawyer|      Norm|      Norm|  Duplex|    1Story|        4.0|          5|   1967.0|        1967|    Gable| CompShg|    MetalSd|    MetalSd|      None|         0|       TA|       TA|      Slab|      NA|      NA|          NA|          NA|         0|          NA|         0|        0|        0.0|   GasA|       TA|         Y|     SBrkr|  1296.0|       0|           0|   1296.0|           0|           0|       2|       0|           2|           2|         TA|           6|       Typ|         0|         NA|   CarPort|       1967|         Unf|         2|     516.0|        TA|        TA|         Y|         0|          0|            0|        0|          0|       0|    NA|   NA|       Shed|    500|    10|  2006|      WD|       Normal|  90000.0|(34,[2,3,4,5,6,7,...|107861.05193681341|\n",
      "| 20|        20|      RL|         70|   7560|  Pave|   NA|     Reg|        Lvl|   AllPub|   Inside|      Gtl|       NAmes|      Norm|      Norm|    1Fam|    1Story|        5.0|          6|   1958.0|        1965|      Hip| CompShg|    BrkFace|    Plywood|      None|         0|       TA|       TA|    CBlock|      TA|      TA|          No|         LwQ|       504|         Unf|         0|      525|     1029.0|   GasA|       TA|         Y|     SBrkr|  1339.0|       0|           0|   1339.0|           0|           0|       1|       0|           3|           1|         TA|           6|      Min1|         0|         NA|    Attchd|       1958|         Unf|         1|     294.0|        TA|        TA|         Y|         0|          0|            0|        0|          0|       0|    NA|MnPrv|         NA|      0|     5|  2009|     COD|      Abnorml| 139000.0|(34,[0,2,3,4,5,6,...| 143736.6034871309|\n",
      "| 35|       120|      RL|         60|   7313|  Pave|   NA|     Reg|        Lvl|   AllPub|   Inside|      Gtl|     NridgHt|      Norm|      Norm|  TwnhsE|    1Story|        9.0|          5|   2005.0|        2005|      Hip| CompShg|    MetalSd|    MetalSd|   BrkFace|       246|       Ex|       TA|     PConc|      Ex|      TA|          No|         GLQ|      1153|         Unf|         0|      408|     1561.0|   GasA|       Ex|         Y|     SBrkr|  1561.0|       0|           0|   1561.0|           1|           0|       2|       0|           2|           1|         Ex|           6|       Typ|         1|         Gd|    Attchd|       2005|         Fin|         2|     556.0|        TA|        TA|         Y|       203|         47|            0|        0|          0|       0|    NA|   NA|         NA|      0|     8|  2007|      WD|       Normal| 277500.0|[1561.0,0.0,120.0...| 299008.1708500401|\n",
      "| 54|        20|      RL|         68|  50271|  Pave|   NA|     IR1|        Low|   AllPub|   Inside|      Gtl|     Veenker|      Norm|      Norm|    1Fam|    1Story|        9.0|          5|   1981.0|        1987|    Gable| WdShngl|    WdShing|    Wd Shng|      None|         0|       Gd|       TA|    CBlock|      Ex|      TA|          Gd|         GLQ|      1810|         Unf|         0|       32|     1842.0|   GasA|       Gd|         Y|     SBrkr|  1842.0|       0|           0|   1842.0|           2|           0|       0|       1|           0|           1|         Gd|           5|       Typ|         1|         Gd|    Attchd|       1981|         Fin|         3|     894.0|        TA|        TA|         Y|       857|         72|            0|        0|          0|       0|    NA|   NA|         NA|      0|    11|  2006|      WD|       Normal| 385000.0|[1842.0,0.0,20.0,...|  437975.604610382|\n",
      "| 61|        20|      RL|         63|  13072|  Pave|   NA|     Reg|        Lvl|   AllPub|   Inside|      Gtl|     SawyerW|      RRAe|      Norm|    1Fam|    1Story|        6.0|          5|   2004.0|        2004|    Gable| CompShg|    VinylSd|    VinylSd|      None|         0|       TA|       TA|     PConc|      Gd|      TA|          No|         ALQ|       941|         Unf|         0|      217|     1158.0|   GasA|       Ex|         Y|     SBrkr|  1158.0|       0|           0|   1158.0|           1|           0|       1|       1|           3|           1|         Gd|           5|       Typ|         0|         NA|    Detchd|       2006|         Unf|         2|     576.0|        TA|        TA|         Y|         0|         50|            0|        0|          0|       0|    NA|   NA|         NA|      0|     5|  2006|     New|      Partial| 158000.0|[1158.0,0.0,20.0,...|167115.58184658785|\n",
      "| 65|        60|      RL|         NA|   9375|  Pave|   NA|     Reg|        Lvl|   AllPub|   Inside|      Gtl|     CollgCr|      Norm|      Norm|    1Fam|    2Story|        7.0|          5|   1997.0|        1998|    Gable| CompShg|    VinylSd|    VinylSd|   BrkFace|       573|       TA|       TA|     PConc|      Gd|      TA|          No|         GLQ|       739|         Unf|         0|      318|     1057.0|   GasA|       Ex|         Y|     SBrkr|  1057.0|     977|           0|   2034.0|           1|           0|       2|       1|           3|           1|         Gd|           8|       Typ|         0|         NA|    Attchd|       1998|         RFn|         2|     645.0|        TA|        TA|         Y|       576|         36|            0|        0|          0|       0|    NA|GdPrv|         NA|      0|     2|  2009|      WD|       Normal| 219500.0|[1057.0,0.0,60.0,...|244204.56711848793|\n",
      "| 66|        60|      RL|         76|   9591|  Pave|   NA|     Reg|        Lvl|   AllPub|   Inside|      Gtl|     NridgHt|      Norm|      Norm|    1Fam|    2Story|        8.0|          5|   2004.0|        2005|    Gable| CompShg|    VinylSd|    VinylSd|   BrkFace|       344|       Gd|       TA|     PConc|      Ex|      TA|          Av|         Unf|         0|         Unf|         0|     1143|     1143.0|   GasA|       Ex|         Y|     SBrkr|  1143.0|    1330|           0|   2473.0|           0|           0|       2|       1|           4|           1|         Gd|           9|       Typ|         1|         Gd|   BuiltIn|       2004|         RFn|         3|     852.0|        TA|        TA|         Y|       192|        151|            0|        0|          0|       0|    NA|   NA|         NA|      0|    10|  2007|      WD|       Normal| 317000.0|[1143.0,0.0,60.0,...| 270671.8661771266|\n",
      "| 69|        30|      RM|         47|   4608|  Pave|   NA|     Reg|        Lvl|   AllPub|   Corner|      Gtl|     OldTown|    Artery|      Norm|    1Fam|    1Story|        4.0|          6|   1945.0|        1950|    Gable| CompShg|    MetalSd|    MetalSd|      None|         0|       TA|       Gd|    CBlock|      TA|      TA|          No|         Unf|         0|         Unf|         0|      747|      747.0|   GasA|       TA|         Y|     SBrkr|   747.0|       0|           0|    747.0|           0|           0|       1|       0|           2|           1|         TA|           4|       Typ|         0|         NA|    Attchd|       1945|         Unf|         1|     220.0|        TA|        TA|         Y|         0|          0|            0|        0|          0|       0|    NA|   NA|         NA|      0|     6|  2010|      WD|       Normal|  80000.0|(34,[0,2,3,4,5,6,...| 84908.27342663587|\n",
      "| 73|        60|      RL|         74|  10141|  Pave|   NA|     IR1|        Lvl|   AllPub|   Corner|      Gtl|     Gilbert|      Norm|      Norm|    1Fam|    2Story|        7.0|          5|   1998.0|        1998|    Gable| CompShg|    VinylSd|    VinylSd|   BrkFace|        40|       TA|       TA|     PConc|      Gd|      TA|          No|         Unf|         0|         Unf|         0|      832|      832.0|   GasA|       Gd|         Y|     SBrkr|   885.0|     833|           0|   1718.0|           0|           0|       2|       1|           3|           1|         TA|           7|       Typ|         1|         TA|    Attchd|       1998|         Fin|         2|     427.0|        TA|        TA|         Y|         0|         94|            0|        0|        291|       0|    NA|   NA|         NA|      0|    12|  2009|      WD|       Normal| 185000.0|[832.0,0.0,60.0,1...|184198.98725205584|\n",
      "| 75|        50|      RM|         60|   5790|  Pave|   NA|     Reg|        Lvl|   AllPub|   Corner|      Gtl|     OldTown|      Norm|      Norm|    1Fam|    2Story|        3.0|          6|   1915.0|        1950|  Gambrel| CompShg|    VinylSd|    VinylSd|      None|         0|       Gd|       Gd|    CBlock|      Fa|      TA|          No|         Unf|         0|         Unf|         0|      840|      840.0|   GasA|       Gd|         N|     SBrkr|   840.0|     765|           0|   1605.0|           0|           0|       2|       0|           3|           2|         TA|           8|       Typ|         0|         NA|    Detchd|       1915|         Unf|         1|     379.0|        TA|        TA|         Y|         0|          0|          202|        0|          0|       0|    NA|   NA|         NA|      0|     5|  2010|      WD|       Normal| 107400.0|(34,[0,2,3,4,5,6,...|124098.90157942778|\n",
      "| 84|        20|      RL|         80|   8892|  Pave|   NA|     IR1|        Lvl|   AllPub|   Inside|      Gtl|       NAmes|      Norm|      Norm|    1Fam|    1Story|        5.0|          5|   1960.0|        1960|    Gable| CompShg|    MetalSd|    MetalSd|    BrkCmn|        66|       TA|       TA|    CBlock|      TA|      TA|          No|         Unf|         0|         Unf|         0|     1065|     1065.0|   GasA|       Gd|         Y|     SBrkr|  1065.0|       0|           0|   1065.0|           0|           0|       1|       1|           3|           1|         TA|           6|       Typ|         0|         NA|    Detchd|       1974|         Unf|         2|     461.0|        TA|        TA|         Y|        74|          0|            0|        0|          0|       0|    NA|   NA|         NA|      0|     7|  2007|     COD|       Normal| 126500.0|(34,[0,2,3,4,5,6,...|126317.11638008126|\n",
      "| 87|        60|      RL|        122|  11911|  Pave|   NA|     IR2|        Lvl|   AllPub|   Inside|      Gtl|     Gilbert|      Norm|      Norm|    1Fam|    2Story|        6.0|          5|   2005.0|        2005|    Gable| CompShg|    VinylSd|    VinylSd|      None|         0|       Gd|       TA|     PConc|      Gd|      TA|          Av|         Unf|         0|         Unf|         0|      684|      684.0|   GasA|       Ex|         Y|     SBrkr|   684.0|     876|           0|   1560.0|           0|           0|       2|       1|           3|           1|         Gd|           6|       Typ|         1|         Gd|   BuiltIn|       2005|         Fin|         2|     400.0|        TA|        TA|         Y|       100|         38|            0|        0|          0|       0|    NA|   NA|         NA|      0|     3|  2009|      WD|       Normal| 174000.0|[684.0,0.0,60.0,1...|178783.35524315308|\n",
      "| 89|        50| C (all)|        105|   8470|  Pave|   NA|     IR1|        Lvl|   AllPub|   Corner|      Gtl|      IDOTRR|     Feedr|     Feedr|    1Fam|    1.5Fin|        3.0|          2|   1915.0|        1982|      Hip| CompShg|    Plywood|    Plywood|      None|         0|       Fa|       Fa|    CBlock|      TA|      Fa|          No|         Unf|         0|         Unf|         0|     1013|     1013.0|   GasA|       TA|         N|     SBrkr|  1013.0|       0|         513|   1526.0|           0|           0|       1|       0|           2|           1|         Fa|           6|       Typ|         0|         NA|        NA|         NA|          NA|         0|       0.0|        NA|        NA|         N|         0|          0|          156|        0|          0|       0|    NA|MnPrv|         NA|      0|    10|  2009|   ConLD|      Abnorml|  85000.0|(34,[0,2,3,4,5,6,...| 94534.73278399005|\n",
      "| 90|        20|      RL|         60|   8070|  Pave|   NA|     Reg|        Lvl|   AllPub|   Inside|      Gtl|     CollgCr|      Norm|      Norm|    1Fam|    1Story|        4.0|          5|   1994.0|        1995|    Gable| CompShg|    VinylSd|    VinylSd|      None|         0|       TA|       TA|     PConc|      Gd|      TA|          No|         GLQ|       588|         Unf|         0|      402|      990.0|   GasA|       Ex|         Y|     SBrkr|   990.0|       0|           0|    990.0|           1|           0|       1|       0|           3|           1|         TA|           5|       Typ|         0|         NA|        NA|         NA|          NA|         0|       0.0|        NA|        NA|         Y|         0|          0|            0|        0|          0|       0|    NA|   NA|         NA|      0|     8|  2007|      WD|       Normal| 123600.0|(34,[0,2,3,4,5,6,...|119580.76888754692|\n",
      "| 91|        20|      RL|         60|   7200|  Pave|   NA|     Reg|        Lvl|   AllPub|   Inside|      Gtl|       NAmes|      Norm|      Norm|    1Fam|    1Story|        4.0|          5|   1950.0|        1950|    Gable| CompShg|    BrkFace|    Wd Sdng|      None|         0|       TA|       TA|      Slab|      NA|      NA|          NA|          NA|         0|          NA|         0|        0|        0.0|   GasA|       TA|         Y|     FuseA|  1040.0|       0|           0|   1040.0|           0|           0|       1|       0|           2|           1|         TA|           4|       Typ|         0|         NA|    Detchd|       1950|         Unf|         2|     420.0|        TA|        TA|         Y|         0|         29|            0|        0|          0|       0|    NA|   NA|         NA|      0|     7|  2006|      WD|       Normal| 109900.0|(34,[2,3,4,5,6,7,...| 95598.97613727849|\n",
      "| 92|        20|      RL|         85|   8500|  Pave|   NA|     Reg|        Lvl|   AllPub|   Inside|      Gtl|       NAmes|      Norm|      Norm|    1Fam|    1Story|        5.0|          3|   1961.0|        1961|      Hip| CompShg|    HdBoard|    HdBoard|    BrkCmn|       203|       TA|       TA|    CBlock|      TA|      TA|          No|         Rec|       600|         Unf|         0|      635|     1235.0|   GasA|       TA|         Y|     SBrkr|  1235.0|       0|           0|   1235.0|           0|           0|       1|       0|           2|           1|         TA|           6|       Typ|         0|         NA|    Attchd|       1961|         Unf|         2|     480.0|        TA|        TA|         Y|         0|          0|            0|        0|          0|       0|    NA| GdWo|         NA|      0|    12|  2006|      WD|      Abnorml|  98600.0|(34,[0,2,3,4,5,6,...|136608.74173943227|\n",
      "| 94|       190| C (all)|         60|   7200|  Pave|   NA|     Reg|        Lvl|   AllPub|   Corner|      Gtl|     OldTown|      Norm|      Norm|  2fmCon|    2.5Unf|        6.0|          6|   1910.0|        1998|      Hip| CompShg|    MetalSd|    MetalSd|      None|         0|       TA|       TA|    BrkTil|      TA|      Fa|          Mn|         Rec|      1046|         Unf|         0|      168|     1214.0|   GasW|       Ex|         N|     SBrkr|  1260.0|    1031|           0|   2291.0|           0|           1|       2|       0|           4|           2|         TA|           9|       Typ|         1|         Gd|    Detchd|       1900|         Unf|         2|     506.0|        TA|        TA|         Y|         0|          0|            0|        0|         99|       0|    NA|   NA|         NA|      0|    11|  2007|      WD|       Normal| 133900.0|[1214.0,0.0,190.0...|175140.07597965052|\n",
      "| 99|        30|      RL|         85|  10625|  Pave|   NA|     Reg|        Lvl|   AllPub|   Corner|      Gtl|     Edwards|      Norm|      Norm|    1Fam|    1Story|        5.0|          5|   1920.0|        1950|    Gable| CompShg|    Wd Sdng|    Wd Sdng|      None|         0|       TA|       TA|    BrkTil|      TA|      TA|          No|         ALQ|       108|         Unf|         0|      350|      458.0|   GasA|       Fa|         N|     SBrkr|   835.0|       0|           0|    835.0|           0|           0|       1|       0|           2|           1|         TA|           5|       Typ|         0|         NA|   Basment|       1920|         Unf|         1|     366.0|        Fa|        TA|         Y|         0|          0|           77|        0|          0|       0|    NA|   NA|       Shed|    400|     5|  2010|     COD|      Abnorml|  83000.0|(34,[0,2,3,4,5,6,...| 79033.82421061154|\n",
      "|101|        20|      RL|         NA|  10603|  Pave|   NA|     IR1|        Lvl|   AllPub|   Inside|      Gtl|      NWAmes|      Norm|      Norm|    1Fam|    1Story|        6.0|          7|   1977.0|        2001|    Gable| CompShg|    Plywood|    Plywood|   BrkFace|        28|       TA|       TA|     PConc|      TA|      TA|          Mn|         ALQ|      1200|         Unf|         0|      410|     1610.0|   GasA|       Gd|         Y|     SBrkr|  1610.0|       0|           0|   1610.0|           1|           0|       2|       0|           3|           1|         Gd|           6|       Typ|         2|         TA|    Attchd|       1977|         RFn|         2|     480.0|        TA|        TA|         Y|       168|         68|            0|        0|          0|       0|    NA|   NA|         NA|      0|     2|  2010|      WD|       Normal| 205000.0|[1610.0,0.0,20.0,...|215935.28649796406|\n",
      "+---+----------+--------+-----------+-------+------+-----+--------+-----------+---------+---------+---------+------------+----------+----------+--------+----------+-----------+-----------+---------+------------+---------+--------+-----------+-----------+----------+----------+---------+---------+----------+--------+--------+------------+------------+----------+------------+----------+---------+-----------+-------+---------+----------+----------+--------+--------+------------+---------+------------+------------+--------+--------+------------+------------+-----------+------------+----------+----------+-----------+----------+-----------+------------+----------+----------+----------+----------+----------+----------+-----------+-------------+---------+-----------+--------+------+-----+-----------+-------+------+------+--------+-------------+---------+--------------------+------------------+\n",
      "only showing top 20 rows\n",
      "\n"
     ]
    }
   ],
   "source": [
    "model = mipipeline.fit(train_data)\n",
    "iowa = model.transform(test_data)\n",
    "iowa.show()"
   ]
  },
  {
   "cell_type": "code",
   "execution_count": 129,
   "metadata": {},
   "outputs": [
    {
     "data": {
      "text/plain": [
       "DenseVector([856.0, 0.0, 60.0, 8450.0, 7.0, 5.0, 2003.0, 2003.0, 706.0, 0.0, 150.0, 2008.0, 856.0, 854.0, 0.0, 1710.0, 1.0, 0.0, 2.0, 1.0, 3.0, 1.0, 8.0, 0.0, 2.0, 548.0, 0.0, 61.0, 0.0, 0.0, 0.0, 0.0, 0.0, 2.0])"
      ]
     },
     "execution_count": 129,
     "metadata": {},
     "output_type": "execute_result"
    }
   ],
   "source": [
    "model.transform(train_data).collect()[0].features"
   ]
  },
  {
   "cell_type": "code",
   "execution_count": 202,
   "metadata": {},
   "outputs": [
    {
     "name": "stdout",
     "output_type": "stream",
     "text": [
      "ChiSqSelector output with top 35 features selected\n",
      "+--------------------+\n",
      "|    selectedFeatures|\n",
      "+--------------------+\n",
      "|[924.0,0.0,60.0,1...|\n",
      "|[1728.0,0.0,90.0,...|\n",
      "|(34,[0,2,3,4,5,6,...|\n",
      "|(34,[0,2,3,4,5,6,...|\n",
      "|(34,[0,2,3,4,5,6,...|\n",
      "|[944.0,0.0,60.0,1...|\n",
      "|[1466.0,0.0,20.0,...|\n",
      "|[741.0,0.0,60.0,9...|\n",
      "|[3200.0,0.0,20.0,...|\n",
      "|(34,[2,3,4,5,6,7,...|\n",
      "|(34,[0,2,3,4,5,6,...|\n",
      "|[1203.0,0.0,60.0,...|\n",
      "|[1136.0,0.0,60.0,...|\n",
      "|[1976.0,0.0,20.0,...|\n",
      "|(34,[0,2,3,4,5,6,...|\n",
      "|(34,[0,2,3,4,5,6,...|\n",
      "|[1624.0,0.0,20.0,...|\n",
      "|(34,[0,2,3,4,5,6,...|\n",
      "|[1844.0,0.0,20.0,...|\n",
      "|[1176.0,0.0,20.0,...|\n",
      "+--------------------+\n",
      "only showing top 20 rows\n",
      "\n"
     ]
    }
   ],
   "source": [
    "selector = ChiSqSelector(numTopFeatures=35, featuresCol=\"features\",\n",
    "                             outputCol=\"selectedFeatures\", labelCol=\"SalePrice\")\n",
    "\n",
    "result = selector.fit(iowa).transform(iowa)\n",
    "\n",
    "print(\"ChiSqSelector output with top %d features selected\" % selector.getNumTopFeatures())\n",
    "result.select(\"selectedFeatures\").distinct().show()"
   ]
  },
  {
   "cell_type": "code",
   "execution_count": 203,
   "metadata": {},
   "outputs": [],
   "source": [
    "cosa = selector.fit(iowa)"
   ]
  },
  {
   "cell_type": "code",
   "execution_count": 204,
   "metadata": {},
   "outputs": [
    {
     "data": {
      "text/plain": [
       "DenseVector([796.0, 0.0, 50.0, 14115.0, 5.0, 5.0, 1993.0, 1995.0, 732.0, 0.0, 64.0, 2009.0, 796.0, 566.0, 0.0, 1362.0, 1.0, 0.0, 1.0, 1.0, 1.0, 1.0, 5.0, 0.0, 2.0, 480.0, 40.0, 30.0, 0.0, 320.0, 0.0, 0.0, 700.0, 10.0])"
      ]
     },
     "execution_count": 204,
     "metadata": {},
     "output_type": "execute_result"
    }
   ],
   "source": [
    "cosa.transform(iowa).head().selectedFeatures"
   ]
  },
  {
   "cell_type": "code",
   "execution_count": 205,
   "metadata": {},
   "outputs": [
    {
     "data": {
      "text/plain": [
       "[27,\n",
       " 4,\n",
       " 18,\n",
       " 16,\n",
       " 28,\n",
       " 8,\n",
       " 22,\n",
       " 3,\n",
       " 5,\n",
       " 23,\n",
       " 6,\n",
       " 15,\n",
       " 2,\n",
       " 25,\n",
       " 26,\n",
       " 24,\n",
       " 13,\n",
       " 20,\n",
       " 9,\n",
       " 12,\n",
       " 33,\n",
       " 32,\n",
       " 11,\n",
       " 10,\n",
       " 1,\n",
       " 31,\n",
       " 0,\n",
       " 14,\n",
       " 19,\n",
       " 7,\n",
       " 21,\n",
       " 17,\n",
       " 30,\n",
       " 29]"
      ]
     },
     "execution_count": 205,
     "metadata": {},
     "output_type": "execute_result"
    }
   ],
   "source": [
    "cosa.selectedFeatures"
   ]
  },
  {
   "cell_type": "code",
   "execution_count": 206,
   "metadata": {},
   "outputs": [
    {
     "name": "stdout",
     "output_type": "stream",
     "text": [
      "Column<b'ExterQual'> Column<b'LotArea'> Column<b'OverallCond'> Column<b'HouseStyle'> Column<b'ExterCond'> Column<b'LandContour'> Column<b'RoofMatl'> Column<b'LotFrontage'> Column<b'Street'> Column<b'Exterior1st'> Column<b'ExterQual'> Column<b'LotArea'> Column<b'OverallCond'> Column<b'HouseStyle'> Column<b'LandContour'> Column<b'RoofMatl'> Column<b'LotFrontage'> Column<b'Street'> Column<b'Exterior1st'> Column<b'Alley'> Column<b'BldgType'> Column<b'MSZoning'> Column<b'MasVnrType'> Column<b'MasVnrArea'> Column<b'Exterior2nd'> Column<b'Condition1'> Column<b'YearRemodAdd'> Column<b'Utilities'> Column<b'Neighborhood'> Column<b'BsmtFinType1'> Column<b'BsmtExposure'> Column<b'LandSlope'> Column<b'LotConfig'> Column<b'MSSubClass'> Column<b'BsmtCond'> Column<b'Id'> Column<b'Condition2'> Column<b'YearBuilt'> Column<b'LotShape'> Column<b'RoofStyle'> Column<b'OverallQual'> Column<b'BsmtQual'> Column<b'Foundation'>\n"
     ]
    }
   ],
   "source": [
    "print (midata[27],midata[4],\n",
    "midata[18],\n",
    "midata[16],\n",
    "midata[28],\n",
    "midata[8],\n",
    "midata[22],\n",
    "midata[3],\n",
    "midata[5],\n",
    "midata[23],\n",
    "midata[27],\n",
    "midata[4],\n",
    "midata[18],\n",
    "midata[16],\n",
    "midata[8],\n",
    "midata[22],\n",
    "midata[3],\n",
    "midata[5],\n",
    "midata[23],\n",
    "midata[6],\n",
    "midata[15],\n",
    "midata[2],\n",
    "midata[25],\n",
    "midata[26],\n",
    "midata[24],\n",
    "midata[13],\n",
    "midata[20],\n",
    "midata[9],\n",
    "midata[12],\n",
    "midata[33],\n",
    "midata[32],\n",
    "midata[11],\n",
    "midata[10],\n",
    "midata[1],\n",
    "midata[31],\n",
    "midata[0],\n",
    "midata[14],\n",
    "midata[19],\n",
    "midata[7],\n",
    "midata[21],\n",
    "midata[17],\n",
    "midata[30],\n",
    "midata[29])"
   ]
  },
  {
   "cell_type": "markdown",
   "metadata": {},
   "source": [
    "'TotalBsmtSF','PoolArea',\n",
    "                'MSSubClass','LotArea','OverallQual','OverallCond',\n",
    "                'YearBuilt','YearRemodAdd',\n",
    "                'BsmtFinSF1','BsmtFinSF2', 'BsmtUnfSF','YrSold','1stFlrSF', '2ndFlrSF', 'LowQualFinSF','GrLivArea',\n",
    "                'BsmtFullBath','BsmtHalfBath','FullBath', 'HalfBath', 'BedroomAbvGr', 'KitchenAbvGr', 'TotRmsAbvGrd',\n",
    "                'Fireplaces','GarageCars','GarageArea','WoodDeckSF','OpenPorchSF','EnclosedPorch','3SsnPorch',\n",
    "                'ScreenPorch','PoolArea','MiscVal','MoSold'"
   ]
  },
  {
   "cell_type": "markdown",
   "metadata": {},
   "source": [
    "KAGGLE"
   ]
  },
  {
   "cell_type": "code",
   "execution_count": 182,
   "metadata": {},
   "outputs": [],
   "source": [
    "prueba = spark.read.csv('./test.csv', header = 'true', inferSchema = 'true', sep = ','  )"
   ]
  },
  {
   "cell_type": "code",
   "execution_count": 183,
   "metadata": {},
   "outputs": [
    {
     "name": "stdout",
     "output_type": "stream",
     "text": [
      "root\n",
      " |-- Id: integer (nullable = true)\n",
      " |-- MSSubClass: integer (nullable = true)\n",
      " |-- MSZoning: string (nullable = true)\n",
      " |-- LotFrontage: string (nullable = true)\n",
      " |-- LotArea: integer (nullable = true)\n",
      " |-- Street: string (nullable = true)\n",
      " |-- Alley: string (nullable = true)\n",
      " |-- LotShape: string (nullable = true)\n",
      " |-- LandContour: string (nullable = true)\n",
      " |-- Utilities: string (nullable = true)\n",
      " |-- LotConfig: string (nullable = true)\n",
      " |-- LandSlope: string (nullable = true)\n",
      " |-- Neighborhood: string (nullable = true)\n",
      " |-- Condition1: string (nullable = true)\n",
      " |-- Condition2: string (nullable = true)\n",
      " |-- BldgType: string (nullable = true)\n",
      " |-- HouseStyle: string (nullable = true)\n",
      " |-- OverallQual: integer (nullable = true)\n",
      " |-- OverallCond: integer (nullable = true)\n",
      " |-- YearBuilt: integer (nullable = true)\n",
      " |-- YearRemodAdd: integer (nullable = true)\n",
      " |-- RoofStyle: string (nullable = true)\n",
      " |-- RoofMatl: string (nullable = true)\n",
      " |-- Exterior1st: string (nullable = true)\n",
      " |-- Exterior2nd: string (nullable = true)\n",
      " |-- MasVnrType: string (nullable = true)\n",
      " |-- MasVnrArea: string (nullable = true)\n",
      " |-- ExterQual: string (nullable = true)\n",
      " |-- ExterCond: string (nullable = true)\n",
      " |-- Foundation: string (nullable = true)\n",
      " |-- BsmtQual: string (nullable = true)\n",
      " |-- BsmtCond: string (nullable = true)\n",
      " |-- BsmtExposure: string (nullable = true)\n",
      " |-- BsmtFinType1: string (nullable = true)\n",
      " |-- BsmtFinSF1: string (nullable = true)\n",
      " |-- BsmtFinType2: string (nullable = true)\n",
      " |-- BsmtFinSF2: string (nullable = true)\n",
      " |-- BsmtUnfSF: string (nullable = true)\n",
      " |-- TotalBsmtSF: string (nullable = true)\n",
      " |-- Heating: string (nullable = true)\n",
      " |-- HeatingQC: string (nullable = true)\n",
      " |-- CentralAir: string (nullable = true)\n",
      " |-- Electrical: string (nullable = true)\n",
      " |-- 1stFlrSF: integer (nullable = true)\n",
      " |-- 2ndFlrSF: integer (nullable = true)\n",
      " |-- LowQualFinSF: integer (nullable = true)\n",
      " |-- GrLivArea: integer (nullable = true)\n",
      " |-- BsmtFullBath: string (nullable = true)\n",
      " |-- BsmtHalfBath: string (nullable = true)\n",
      " |-- FullBath: integer (nullable = true)\n",
      " |-- HalfBath: integer (nullable = true)\n",
      " |-- BedroomAbvGr: integer (nullable = true)\n",
      " |-- KitchenAbvGr: integer (nullable = true)\n",
      " |-- KitchenQual: string (nullable = true)\n",
      " |-- TotRmsAbvGrd: integer (nullable = true)\n",
      " |-- Functional: string (nullable = true)\n",
      " |-- Fireplaces: integer (nullable = true)\n",
      " |-- FireplaceQu: string (nullable = true)\n",
      " |-- GarageType: string (nullable = true)\n",
      " |-- GarageYrBlt: string (nullable = true)\n",
      " |-- GarageFinish: string (nullable = true)\n",
      " |-- GarageCars: string (nullable = true)\n",
      " |-- GarageArea: string (nullable = true)\n",
      " |-- GarageQual: string (nullable = true)\n",
      " |-- GarageCond: string (nullable = true)\n",
      " |-- PavedDrive: string (nullable = true)\n",
      " |-- WoodDeckSF: integer (nullable = true)\n",
      " |-- OpenPorchSF: integer (nullable = true)\n",
      " |-- EnclosedPorch: integer (nullable = true)\n",
      " |-- 3SsnPorch: integer (nullable = true)\n",
      " |-- ScreenPorch: integer (nullable = true)\n",
      " |-- PoolArea: integer (nullable = true)\n",
      " |-- PoolQC: string (nullable = true)\n",
      " |-- Fence: string (nullable = true)\n",
      " |-- MiscFeature: string (nullable = true)\n",
      " |-- MiscVal: integer (nullable = true)\n",
      " |-- MoSold: integer (nullable = true)\n",
      " |-- YrSold: integer (nullable = true)\n",
      " |-- SaleType: string (nullable = true)\n",
      " |-- SaleCondition: string (nullable = true)\n",
      "\n"
     ]
    }
   ],
   "source": [
    "prueba.printSchema()"
   ]
  },
  {
   "cell_type": "code",
   "execution_count": 184,
   "metadata": {},
   "outputs": [],
   "source": [
    "from pyspark.sql.types import DoubleType"
   ]
  },
  {
   "cell_type": "code",
   "execution_count": 185,
   "metadata": {},
   "outputs": [],
   "source": [
    "prueba = prueba.withColumn(\"GarageArea\", prueba[\"GarageArea\"].cast(\"double\"))\n",
    "prueba = prueba.withColumn(\"TotalBsmtSF\", prueba[\"TotalBsmtSF\"].cast(\"double\"))\n",
    "prueba = prueba.withColumn(\"YearBuilt\", prueba[\"YearBuilt\"].cast(\"double\"))\n",
    "prueba = prueba.withColumn(\"OverallQual\", prueba[\"OverallQual\"].cast(\"double\"))\n",
    "prueba = prueba.withColumn(\"1stFlrSF\", prueba[\"1stFlrSF\"].cast(\"double\"))\n",
    "prueba = prueba.withColumn(\"BsmtFinSF1\", prueba[\"BsmtFinSF1\"].cast(\"double\"))\n",
    "prueba = prueba.withColumn(\"BsmtFinSF2\", prueba[\"BsmtFinSF2\"].cast(\"double\"))\n",
    "prueba = prueba.withColumn(\"BsmtUnfSF\", prueba[\"BsmtUnfSF\"].cast(\"double\"))\n",
    "prueba = prueba.withColumn(\"BsmtFullBath\", prueba[\"BsmtFullBath\"].cast(\"double\"))\n",
    "prueba = prueba.withColumn(\"BsmtHalfBath\", prueba[\"BsmtHalfBath\"].cast(\"double\"))\n",
    "prueba = prueba.withColumn(\"GarageCars\", prueba[\"GarageCars\"].cast(\"double\"))"
   ]
  },
  {
   "cell_type": "code",
   "execution_count": 186,
   "metadata": {},
   "outputs": [],
   "source": [
    "prueba2 = model.transform(prueba)"
   ]
  },
  {
   "cell_type": "code",
   "execution_count": 187,
   "metadata": {},
   "outputs": [],
   "source": [
    "final = prueba2.selectExpr(\"Id as Id\", \"prediction as SalePrice\")"
   ]
  },
  {
   "cell_type": "code",
   "execution_count": 188,
   "metadata": {},
   "outputs": [
    {
     "name": "stdout",
     "output_type": "stream",
     "text": [
      "+----+------------------+\n",
      "|  Id|         SalePrice|\n",
      "+----+------------------+\n",
      "|1461|  122242.384649699|\n",
      "|1462|162897.36956204264|\n",
      "|1463|208399.19712976247|\n",
      "|1464|191965.44692184945|\n",
      "|1465|208018.16907134384|\n",
      "|1466|180836.23746975974|\n",
      "|1467|171808.25427882426|\n",
      "|1468|171819.28103111722|\n",
      "|1469| 170633.7393687073|\n",
      "|1470| 105454.7528936456|\n",
      "|1471| 202055.5663265965|\n",
      "|1472|102195.81270764845|\n",
      "|1473|103212.09787314555|\n",
      "|1474|157284.40720038384|\n",
      "|1475|119631.15596478153|\n",
      "|1476|422564.70282832143|\n",
      "|1477|250571.67444021397|\n",
      "|1478| 331687.4611268366|\n",
      "|1479|223985.44850914052|\n",
      "|1480| 374950.7641356278|\n",
      "+----+------------------+\n",
      "only showing top 20 rows\n",
      "\n"
     ]
    }
   ],
   "source": [
    "final.select(\"Id\",\"SalePrice\").show()"
   ]
  },
  {
   "cell_type": "code",
   "execution_count": 189,
   "metadata": {},
   "outputs": [],
   "source": [
    "predicion = final.toPandas()\n",
    "predicion.set_index('Id', inplace=True)"
   ]
  },
  {
   "cell_type": "code",
   "execution_count": 190,
   "metadata": {},
   "outputs": [
    {
     "data": {
      "text/html": [
       "<div>\n",
       "<style scoped>\n",
       "    .dataframe tbody tr th:only-of-type {\n",
       "        vertical-align: middle;\n",
       "    }\n",
       "\n",
       "    .dataframe tbody tr th {\n",
       "        vertical-align: top;\n",
       "    }\n",
       "\n",
       "    .dataframe thead th {\n",
       "        text-align: right;\n",
       "    }\n",
       "</style>\n",
       "<table border=\"1\" class=\"dataframe\">\n",
       "  <thead>\n",
       "    <tr style=\"text-align: right;\">\n",
       "      <th></th>\n",
       "      <th>SalePrice</th>\n",
       "    </tr>\n",
       "    <tr>\n",
       "      <th>Id</th>\n",
       "      <th></th>\n",
       "    </tr>\n",
       "  </thead>\n",
       "  <tbody>\n",
       "    <tr>\n",
       "      <td>1461</td>\n",
       "      <td>122242.384650</td>\n",
       "    </tr>\n",
       "    <tr>\n",
       "      <td>1462</td>\n",
       "      <td>162897.369562</td>\n",
       "    </tr>\n",
       "    <tr>\n",
       "      <td>1463</td>\n",
       "      <td>208399.197130</td>\n",
       "    </tr>\n",
       "    <tr>\n",
       "      <td>1464</td>\n",
       "      <td>191965.446922</td>\n",
       "    </tr>\n",
       "    <tr>\n",
       "      <td>1465</td>\n",
       "      <td>208018.169071</td>\n",
       "    </tr>\n",
       "    <tr>\n",
       "      <td>...</td>\n",
       "      <td>...</td>\n",
       "    </tr>\n",
       "    <tr>\n",
       "      <td>2915</td>\n",
       "      <td>75983.440923</td>\n",
       "    </tr>\n",
       "    <tr>\n",
       "      <td>2916</td>\n",
       "      <td>83514.846647</td>\n",
       "    </tr>\n",
       "    <tr>\n",
       "      <td>2917</td>\n",
       "      <td>168654.203868</td>\n",
       "    </tr>\n",
       "    <tr>\n",
       "      <td>2918</td>\n",
       "      <td>117294.581619</td>\n",
       "    </tr>\n",
       "    <tr>\n",
       "      <td>2919</td>\n",
       "      <td>241911.143717</td>\n",
       "    </tr>\n",
       "  </tbody>\n",
       "</table>\n",
       "<p>1459 rows × 1 columns</p>\n",
       "</div>"
      ],
      "text/plain": [
       "          SalePrice\n",
       "Id                 \n",
       "1461  122242.384650\n",
       "1462  162897.369562\n",
       "1463  208399.197130\n",
       "1464  191965.446922\n",
       "1465  208018.169071\n",
       "...             ...\n",
       "2915   75983.440923\n",
       "2916   83514.846647\n",
       "2917  168654.203868\n",
       "2918  117294.581619\n",
       "2919  241911.143717\n",
       "\n",
       "[1459 rows x 1 columns]"
      ]
     },
     "execution_count": 190,
     "metadata": {},
     "output_type": "execute_result"
    }
   ],
   "source": [
    "predicion"
   ]
  },
  {
   "cell_type": "code",
   "execution_count": 191,
   "metadata": {},
   "outputs": [],
   "source": [
    "predicion.to_csv('CasasUEM.csv')"
   ]
  },
  {
   "cell_type": "code",
   "execution_count": 272,
   "metadata": {},
   "outputs": [],
   "source": [
    "from PIL import Image"
   ]
  },
  {
   "cell_type": "code",
   "execution_count": 273,
   "metadata": {},
   "outputs": [
    {
     "data": {
      "image/png": "[encoded data removed]",
      "text/plain": [
       "<PIL.PngImagePlugin.PngImageFile image mode=RGBA size=1882x216 at 0x106039E10>"
      ]
     },
     "execution_count": 273,
     "metadata": {},
     "output_type": "execute_result"
    }
   ],
   "source": [
    "Image.open('./images/Captura de pantalla 2020-05-31 a las 18.18.23.png')"
   ]
  },
  {
   "cell_type": "code",
   "execution_count": 274,
   "metadata": {},
   "outputs": [
    {
     "data": {
      "image/png": "[encoded data removed]",
      "text/plain": [
       "<PIL.PngImagePlugin.PngImageFile image mode=RGBA size=1898x84 at 0x11931CCD0>"
      ]
     },
     "execution_count": 274,
     "metadata": {},
     "output_type": "execute_result"
    }
   ],
   "source": [
    "Image.open('./images/Captura de pantalla 2020-05-31 a las 18.18.02.png')"
   ]
  }
 ],
 "metadata": {
  "kernelspec": {
   "display_name": "Python 3",
   "language": "python",
   "name": "python3"
  },
  "language_info": {
   "codemirror_mode": {
    "name": "ipython",
    "version": 3
   },
   "file_extension": ".py",
   "mimetype": "text/x-python",
   "name": "python",
   "nbconvert_exporter": "python",
   "pygments_lexer": "ipython3",
   "version": "3.7.4"
  }
 },
 "nbformat": 4,
 "nbformat_minor": 2
}
